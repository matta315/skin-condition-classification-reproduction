{
 "cells": [
  {
   "cell_type": "code",
   "execution_count": 1,
   "id": "cf86ebae",
   "metadata": {},
   "outputs": [],
   "source": [
    "#!/usr/bin/env python\n",
    "# coding: utf-8"
   ]
  },
  {
   "cell_type": "code",
   "execution_count": 2,
   "id": "3a614b7f",
   "metadata": {},
   "outputs": [],
   "source": [
    "import os\n",
    "import torch\n",
    "import torch.nn as nn\n",
    "import torch.optim as optim\n",
    "from torch.utils.data import DataLoader, Dataset\n",
    "from torchvision import models, transforms\n",
    "import pandas as pd\n",
    "import numpy as np\n",
    "import matplotlib.pyplot as plt\n",
    "from sklearn.metrics import confusion_matrix, classification_report, roc_curve, auc\n",
    "\n",
    "# Set seed for reproducibility\n",
    "seed = 42\n",
    "torch.manual_seed(seed)\n",
    "np.random.seed(seed)\n",
    "\n",
    "# Define paths\n",
    "DATA_PATH = \"../data/processed/images\""
   ]
  },
  {
   "cell_type": "code",
   "execution_count": null,
   "id": "1c0d1615",
   "metadata": {},
   "outputs": [],
   "source": [
    "# 1. Data Preparation\n",
    "\n",
    "class SkinTypeDataset(torch.utils.data.Dataset):\n",
    "    def __init__(self, csv_file, root_dir, transform=None, condition=None):\n",
    "        self.data_frame = pd.read_csv(csv_file)\n",
    "        \n",
    "        # Filter by condition if specified\n",
    "        if condition:\n",
    "            self.data_frame = self.data_frame[self.data_frame['label'] == condition]\n",
    "            \n",
    "        self.root_dir = root_dir\n",
    "        self.transform = transform\n",
    "        \n",
    "        # Convert three_partition_label to binary (malignant vs. non-malignant)\n",
    "        self.data_frame['binary_label'] = self.data_frame['three_partition_label'].apply(\n",
    "            lambda x: 1 if x == 'malignant' else 0\n",
    "        )\n",
    "        \n",
    "        # Group skin types into light (1-3) and dark (4-6)\n",
    "        self.data_frame['skin_group'] = self.data_frame['fitzpatrick_scale'].apply(\n",
    "            lambda x: 'light' if x <= 3 else 'dark'\n",
    "        )\n",
    "    \n",
    "    def __len__(self):\n",
    "        return len(self.data_frame)\n",
    "    \n",
    "    def __getitem__(self, idx):\n",
    "        img_path = self.data_frame.iloc[idx]['image_path']\n",
    "        image = plt.imread(img_path)\n",
    "        \n",
    "        # Convert grayscale to RGB if needed\n",
    "        if len(image.shape) == 2:\n",
    "            image = np.stack((image,)*3, axis=-1)\n",
    "        \n",
    "        # Get labels\n",
    "        binary_label = self.data_frame.iloc[idx]['binary_label']\n",
    "        skin_type = self.data_frame.iloc[idx]['fitzpatrick_scale']\n",
    "        skin_group = 0 if self.data_frame.iloc[idx]['skin_group'] == 'light' else 1\n",
    "        \n",
    "        if self.transform:\n",
    "            image = self.transform(image)\n",
    "        \n",
    "        return image, binary_label, skin_type, skin_group"
   ]
  },
  {
   "cell_type": "code",
   "execution_count": null,
   "id": "ebd3b945",
   "metadata": {},
   "outputs": [],
   "source": [
    "# WORKING PROGRESS LATER WITH MATTA"
   ]
  }
 ],
 "metadata": {
  "kernelspec": {
   "display_name": "Python 3",
   "language": "python",
   "name": "python3"
  },
  "language_info": {
   "codemirror_mode": {
    "name": "ipython",
    "version": 3
   },
   "file_extension": ".py",
   "mimetype": "text/x-python",
   "name": "python",
   "nbconvert_exporter": "python",
   "pygments_lexer": "ipython3",
   "version": "3.10.16"
  }
 },
 "nbformat": 4,
 "nbformat_minor": 5
}
