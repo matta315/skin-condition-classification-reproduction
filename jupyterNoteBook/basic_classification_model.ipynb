{
 "cells": [
  {
   "cell_type": "code",
   "execution_count": 1,
   "id": "9ac8ff80",
   "metadata": {},
   "outputs": [],
   "source": [
    "#!/usr/bin/env python\n",
    "# coding: utf-8"
   ]
  },
  {
   "cell_type": "code",
   "execution_count": 1,
   "id": "c587a5f6",
   "metadata": {},
   "outputs": [],
   "source": [
    "import os\n",
    "import torch\n",
    "import torch.nn as nn\n",
    "import torch.optim as optim\n",
    "from torch.utils.data import DataLoader\n",
    "from torchvision import models, transforms\n",
    "import pandas as pd\n",
    "import numpy as np\n",
    "import matplotlib.pyplot as plt\n",
    "from sklearn.metrics import confusion_matrix, classification_report\n",
    "\n",
    "# Set seed for reproducibility\n",
    "seed = 42\n",
    "torch.manual_seed(seed)\n",
    "np.random.seed(seed)\n",
    "\n",
    "# Define paths\n",
    "DATA_PATH = \"../data/processed/images\""
   ]
  },
  {
   "cell_type": "markdown",
   "id": "b3519c28",
   "metadata": {},
   "source": [
    "This notebook will implement a basic VGG-16 model to classify skin conditions into binary categories (e.g., benign vs. malignant)."
   ]
  },
  {
   "cell_type": "code",
   "execution_count": 3,
   "id": "cb4c0b6f",
   "metadata": {},
   "outputs": [],
   "source": [
    "# 1. Data Preparation\n",
    "\n",
    "class SkinConditionDataset(torch.utils.data.Dataset):\n",
    "    def __init__(self, csv_file, root_dir, transform=None):\n",
    "        self.data_frame = pd.read_csv(csv_file)\n",
    "        self.root_dir = root_dir\n",
    "        self.transform = transform\n",
    "        \n",
    "        # Convert three_partition_label to binary (malignant vs. non-malignant)\n",
    "        self.data_frame['binary_label'] = self.data_frame['three_partition_label'].apply(\n",
    "            lambda x: 1 if x == 'malignant' else 0\n",
    "        )\n",
    "    \n",
    "    def __len__(self):\n",
    "        return len(self.data_frame)\n",
    "    \n",
    "    def __getitem__(self, idx):\n",
    "        img_path = self.data_frame.iloc[idx]['image_path']\n",
    "        image = plt.imread(img_path)\n",
    "        \n",
    "        # Convert grayscale to RGB if needed\n",
    "        if len(image.shape) == 2:\n",
    "            image = np.stack((image,)*3, axis=-1)\n",
    "        \n",
    "        # Get binary label\n",
    "        label = self.data_frame.iloc[idx]['binary_label']\n",
    "        \n",
    "        if self.transform:\n",
    "            image = self.transform(image)\n",
    "        \n",
    "        return image, label\n"
   ]
  },
  {
   "cell_type": "code",
   "execution_count": 6,
   "id": "fe07d3be",
   "metadata": {},
   "outputs": [],
   "source": [
    "def load_data():\n",
    "    # Define transforms\n",
    "    transform = transforms.Compose([\n",
    "        transforms.ToPILImage(),\n",
    "        transforms.Resize((224, 224)),\n",
    "        transforms.ToTensor(),\n",
    "        transforms.Normalize([0.485, 0.456, 0.406], [0.229, 0.224, 0.225])\n",
    "    ])\n",
    "    \n",
    "    # Create datasets\n",
    "    train_dataset = SkinConditionDataset(\n",
    "        csv_file=os.path.join(DATA_PATH, 'train_split.csv'),\n",
    "        root_dir=DATA_PATH,\n",
    "        transform=transform\n",
    "    )\n",
    "    \n",
    "    val_dataset = SkinConditionDataset(\n",
    "        csv_file=os.path.join(DATA_PATH, 'val_split.csv'),\n",
    "        root_dir=DATA_PATH,\n",
    "        transform=transform\n",
    "    )\n",
    "    \n",
    "    # Create dataloaders\n",
    "    train_loader = DataLoader(train_dataset, batch_size=32, shuffle=True)\n",
    "    val_loader = DataLoader(val_dataset, batch_size=32, shuffle=False)\n",
    "    \n",
    "    return train_loader, val_loader\n",
    "\n",
    "train_loader, val_loader = load_data()"
   ]
  },
  {
   "cell_type": "markdown",
   "id": "dfcf7a07",
   "metadata": {},
   "source": [
    "# 2. Building the Model"
   ]
  },
  {
   "cell_type": "code",
   "execution_count": 7,
   "id": "1fbaa009",
   "metadata": {},
   "outputs": [],
   "source": [
    "# 2. Building the Model\n",
    "class BinaryClassifier(nn.Module):\n",
    "    def __init__(self, pretrained=True):\n",
    "        super(BinaryClassifier, self).__init__()\n",
    "        # Load pre-trained VGG16\n",
    "        self.vgg = models.vgg16(pretrained=pretrained)\n",
    "        \n",
    "        # Replace the final layer for binary classification\n",
    "        num_features = self.vgg.classifier[6].in_features\n",
    "        self.vgg.classifier[6] = nn.Linear(num_features, 1)\n",
    "        \n",
    "        # Add sigmoid for binary classification\n",
    "        self.sigmoid = nn.Sigmoid()\n",
    "    \n",
    "    def forward(self, x):\n",
    "        x = self.vgg(x)\n",
    "        return self.sigmoid(x)"
   ]
  },
  {
   "cell_type": "code",
   "execution_count": null,
   "id": "7ba1f218",
   "metadata": {},
   "outputs": [
    {
     "name": "stderr",
     "output_type": "stream",
     "text": [
      "/Users/mmnguyen/.local/share/mise/installs/python/3.10.16/lib/python3.10/site-packages/torchvision/models/_utils.py:208: UserWarning: The parameter 'pretrained' is deprecated since 0.13 and may be removed in the future, please use 'weights' instead.\n",
      "  warnings.warn(\n",
      "/Users/mmnguyen/.local/share/mise/installs/python/3.10.16/lib/python3.10/site-packages/torchvision/models/_utils.py:223: UserWarning: Arguments other than a weight enum or `None` for 'weights' are deprecated since 0.13 and may be removed in the future. The current behavior is equivalent to passing `weights=VGG16_Weights.IMAGENET1K_V1`. You can also use `weights=VGG16_Weights.DEFAULT` to get the most up-to-date weights.\n",
      "  warnings.warn(msg)\n",
      "Downloading: \"https://download.pytorch.org/models/vgg16-397923af.pth\" to /Users/mmnguyen/.cache/torch/hub/checkpoints/vgg16-397923af.pth\n",
      "100%|██████████| 528M/528M [00:05<00:00, 105MB/s]  \n"
     ]
    }
   ],
   "source": [
    "# Create model\n",
    "def create_model():\n",
    "    # Use a smaller model like ResNet18 instead of VGG16\n",
    "    model = models.resnet18(pretrained=True)\n",
    "    # Replace the final layer for binary classification\n",
    "    model.fc = nn.Linear(model.fc.in_features, 1)\n",
    "    # Add sigmoid for binary classification\n",
    "    model = nn.Sequential(\n",
    "        model,\n",
    "        nn.Sigmoid()\n",
    "    )\n",
    "    return model\n",
    "\n",
    "# Use this when creating your model\n",
    "model = create_model()\n",
    "\n",
    "#model = BinaryClassifier(pretrained=True)"
   ]
  },
  {
   "cell_type": "markdown",
   "id": "fb595e8b",
   "metadata": {},
   "source": [
    "3. Train Model"
   ]
  },
  {
   "cell_type": "code",
   "execution_count": 9,
   "id": "314371a0",
   "metadata": {},
   "outputs": [],
   "source": [
    "def train_model(model, train_loader, val_loader, criterion, optimizer, num_epochs=10):\n",
    "    device = torch.device(\"cuda:0\" if torch.cuda.is_available() else \"cpu\")\n",
    "    model.to(device)\n",
    "    \n",
    "    best_val_acc = 0.0\n",
    "    \n",
    "    for epoch in range(num_epochs):\n",
    "        # Training phase\n",
    "        model.train()\n",
    "        running_loss = 0.0\n",
    "        correct = 0\n",
    "        total = 0\n",
    "        \n",
    "        for inputs, labels in train_loader:\n",
    "            inputs = inputs.to(device)\n",
    "            labels = labels.float().to(device).view(-1, 1)\n",
    "            \n",
    "            # Zero the parameter gradients\n",
    "            optimizer.zero_grad()\n",
    "            \n",
    "            # Forward pass\n",
    "            outputs = model(inputs)\n",
    "            loss = criterion(outputs, labels)\n",
    "            \n",
    "            # Backward pass and optimize\n",
    "            loss.backward()\n",
    "            optimizer.step()\n",
    "            \n",
    "            # Statistics\n",
    "            running_loss += loss.item() * inputs.size(0)\n",
    "            predicted = (outputs > 0.5).float()\n",
    "            total += labels.size(0)\n",
    "            correct += (predicted == labels).sum().item()\n",
    "        \n",
    "        epoch_loss = running_loss / len(train_loader.dataset)\n",
    "        epoch_acc = correct / total\n",
    "        \n",
    "        print(f'Epoch {epoch+1}/{num_epochs}, Loss: {epoch_loss:.4f}, Acc: {epoch_acc:.4f}')\n",
    "        \n",
    "        # Validation phase\n",
    "        model.eval()\n",
    "        val_loss = 0.0\n",
    "        val_correct = 0\n",
    "        val_total = 0\n",
    "        \n",
    "        with torch.no_grad():\n",
    "            for inputs, labels in val_loader:\n",
    "                inputs = inputs.to(device)\n",
    "                labels = labels.float().to(device).view(-1, 1)\n",
    "                \n",
    "                outputs = model(inputs)\n",
    "                loss = criterion(outputs, labels)\n",
    "                \n",
    "                val_loss += loss.item() * inputs.size(0)\n",
    "                predicted = (outputs > 0.5).float()\n",
    "                val_total += labels.size(0)\n",
    "                val_correct += (predicted == labels).sum().item()\n",
    "        \n",
    "        val_loss = val_loss / len(val_loader.dataset)\n",
    "        val_acc = val_correct / val_total\n",
    "        \n",
    "        print(f'Validation Loss: {val_loss:.4f}, Acc: {val_acc:.4f}')\n",
    "        \n",
    "        # Save best model\n",
    "        if val_acc > best_val_acc:\n",
    "            best_val_acc = val_acc\n",
    "            torch.save(model.state_dict(), 'binary_classifier.pth')\n",
    "    \n",
    "    return model"
   ]
  },
  {
   "cell_type": "code",
   "execution_count": 10,
   "id": "97142ad8",
   "metadata": {},
   "outputs": [
    {
     "name": "stdout",
     "output_type": "stream",
     "text": [
      "Epoch 1/10, Loss: 0.4477, Acc: 0.8132\n",
      "Validation Loss: 0.3598, Acc: 0.8302\n",
      "Epoch 2/10, Loss: 0.3169, Acc: 0.8739\n",
      "Validation Loss: 0.3031, Acc: 0.8782\n",
      "Epoch 3/10, Loss: 0.2216, Acc: 0.9136\n",
      "Validation Loss: 0.3439, Acc: 0.8902\n",
      "Epoch 4/10, Loss: 0.1376, Acc: 0.9449\n",
      "Validation Loss: 0.4784, Acc: 0.8799\n",
      "Epoch 5/10, Loss: 0.1384, Acc: 0.9526\n",
      "Validation Loss: 0.2785, Acc: 0.8937\n",
      "Epoch 6/10, Loss: 0.0906, Acc: 0.9603\n",
      "Validation Loss: 0.4030, Acc: 0.9005\n",
      "Epoch 7/10, Loss: 0.0510, Acc: 0.9816\n",
      "Validation Loss: 0.4288, Acc: 0.8954\n",
      "Epoch 8/10, Loss: 0.0242, Acc: 0.9919\n",
      "Validation Loss: 0.3977, Acc: 0.8834\n",
      "Epoch 9/10, Loss: 0.0526, Acc: 0.9809\n",
      "Validation Loss: 0.5706, Acc: 0.8937\n",
      "Epoch 10/10, Loss: 0.0577, Acc: 0.9846\n",
      "Validation Loss: 0.3308, Acc: 0.9005\n"
     ]
    }
   ],
   "source": [
    "# 3. Training the Model\n",
    "# Define loss function and optimizer\n",
    "criterion = nn.BCELoss()\n",
    "optimizer = optim.Adam(model.parameters(), lr=0.0001)\n",
    "    \n",
    "# Train model\n",
    "model = train_model(model, train_loader, val_loader, criterion, optimizer, num_epochs=10)"
   ]
  },
  {
   "cell_type": "markdown",
   "id": "69857bfa",
   "metadata": {},
   "source": [
    "4. Evaluate Model"
   ]
  },
  {
   "cell_type": "code",
   "execution_count": 11,
   "id": "b1a0dc45",
   "metadata": {},
   "outputs": [],
   "source": [
    "# Add tester data\n",
    "# Add a test data loader\n",
    "def load_test_data():\n",
    "    # Define transforms\n",
    "    transform = transforms.Compose([\n",
    "        transforms.ToPILImage(),\n",
    "        transforms.Resize((224, 224)),\n",
    "        transforms.ToTensor(),\n",
    "        transforms.Normalize([0.485, 0.456, 0.406], [0.229, 0.224, 0.225])\n",
    "    ])\n",
    "    \n",
    "    # Create test dataset\n",
    "    test_dataset = SkinConditionDataset(\n",
    "        csv_file=os.path.join(DATA_PATH, 'test_split.csv'),\n",
    "        root_dir=DATA_PATH,\n",
    "        transform=transform\n",
    "    )\n",
    "    \n",
    "    # Create dataloader\n",
    "    test_loader = DataLoader(test_dataset, batch_size=32, shuffle=False)\n",
    "    \n",
    "    return test_loader\n",
    "\n",
    "test_loader = load_test_data()\n"
   ]
  },
  {
   "cell_type": "code",
   "execution_count": 12,
   "id": "343a5c7b",
   "metadata": {},
   "outputs": [],
   "source": [
    "# 4. Evaluate the Model\n",
    "def evaluate_model(model, test_loader):\n",
    "    \"\"\"\n",
    "    Evaluate the model on test data and return detailed metrics\n",
    "    \"\"\"\n",
    "    device = torch.device(\"cuda:0\" if torch.cuda.is_available() else \"cpu\")\n",
    "    model.to(device)\n",
    "    model.eval()\n",
    "    \n",
    "    all_preds = []\n",
    "    all_labels = []\n",
    "    \n",
    "    with torch.no_grad():\n",
    "        for inputs, labels in test_loader:\n",
    "            inputs = inputs.to(device)\n",
    "            labels = labels.to(device)\n",
    "            \n",
    "            outputs = model(inputs)\n",
    "            preds = (outputs > 0.5).float().cpu().numpy().flatten()\n",
    "            \n",
    "            all_preds.extend(preds)\n",
    "            all_labels.extend(labels.cpu().numpy())\n",
    "    \n",
    "    # Convert to numpy arrays\n",
    "    all_preds = np.array(all_preds)\n",
    "    all_labels = np.array(all_labels)\n",
    "    \n",
    "    # Calculate metrics\n",
    "    accuracy = np.mean(all_preds == all_labels)\n",
    "    \n",
    "    # Calculate confusion matrix\n",
    "    tn, fp, fn, tp = confusion_matrix(all_labels, all_preds).ravel()\n",
    "    \n",
    "    # Calculate sensitivity (recall), specificity, precision, and F1 score\n",
    "    sensitivity = tp / (tp + fn) if (tp + fn) > 0 else 0\n",
    "    specificity = tn / (tn + fp) if (tn + fp) > 0 else 0\n",
    "    precision = tp / (tp + fp) if (tp + fp) > 0 else 0\n",
    "    f1_score = 2 * (precision * sensitivity) / (precision + sensitivity) if (precision + sensitivity) > 0 else 0\n",
    "    \n",
    "    # Print classification report\n",
    "    print(classification_report(all_labels, all_preds, target_names=['Non-Malignant', 'Malignant']))\n",
    "    \n",
    "    # Create confusion matrix visualization\n",
    "    plt.figure(figsize=(8, 6))\n",
    "    cm = confusion_matrix(all_labels, all_preds)\n",
    "    sns.heatmap(cm, annot=True, fmt='d', cmap='Blues', \n",
    "                xticklabels=['Non-Malignant', 'Malignant'],\n",
    "                yticklabels=['Non-Malignant', 'Malignant'])\n",
    "    plt.xlabel('Predicted')\n",
    "    plt.ylabel('True')\n",
    "    plt.title('Confusion Matrix')\n",
    "    plt.show()\n",
    "    \n",
    "    # Return metrics as a dictionary\n",
    "    metrics = {\n",
    "        'accuracy': accuracy,\n",
    "        'sensitivity': sensitivity,\n",
    "        'specificity': specificity,\n",
    "        'precision': precision,\n",
    "        'f1_score': f1_score,\n",
    "        'confusion_matrix': cm\n",
    "    }\n",
    "    \n",
    "    return metrics\n"
   ]
  },
  {
   "cell_type": "code",
   "execution_count": 13,
   "id": "c2c6a242",
   "metadata": {},
   "outputs": [
    {
     "name": "stdout",
     "output_type": "stream",
     "text": [
      "               precision    recall  f1-score   support\n",
      "\n",
      "Non-Malignant       0.95      0.94      0.94       479\n",
      "    Malignant       0.72      0.75      0.74       105\n",
      "\n",
      "     accuracy                           0.90       584\n",
      "    macro avg       0.84      0.84      0.84       584\n",
      " weighted avg       0.91      0.90      0.90       584\n",
      "\n"
     ]
    },
    {
     "data": {
      "image/png": "[encoded data removed]",
      "text/plain": [
       "<Figure size 800x600 with 2 Axes>"
      ]
     },
     "metadata": {},
     "output_type": "display_data"
    },
    {
     "name": "stdout",
     "output_type": "stream",
     "text": [
      "Accuracy: 0.9041\n",
      "Sensitivity: 0.7524\n",
      "Specificity: 0.9374\n",
      "Precision: 0.7248\n",
      "F1 Score: 0.7383\n"
     ]
    }
   ],
   "source": [
    "import seaborn as sns\n",
    "# Evaluate the model\n",
    "metrics = evaluate_model(model, test_loader)\n",
    "# Print metrics\n",
    "print(f\"Accuracy: {metrics['accuracy']:.4f}\")\n",
    "print(f\"Sensitivity: {metrics['sensitivity']:.4f}\")\n",
    "print(f\"Specificity: {metrics['specificity']:.4f}\")\n",
    "print(f\"Precision: {metrics['precision']:.4f}\")\n",
    "print(f\"F1 Score: {metrics['f1_score']:.4f}\")"
   ]
  },
  {
   "cell_type": "code",
   "execution_count": 15,
   "id": "4ce2e7e2",
   "metadata": {},
   "outputs": [],
   "source": [
    "# 5. Save the model\n",
    "torch.save(model.state_dict(), 'basic_classification_model.pth')"
   ]
  },
  {
   "cell_type": "code",
   "execution_count": null,
   "id": "7732f28b",
   "metadata": {},
   "outputs": [],
   "source": []
  }
 ],
 "metadata": {
  "kernelspec": {
   "display_name": "Python 3",
   "language": "python",
   "name": "python3"
  },
  "language_info": {
   "codemirror_mode": {
    "name": "ipython",
    "version": 3
   },
   "file_extension": ".py",
   "mimetype": "text/x-python",
   "name": "python",
   "nbconvert_exporter": "python",
   "pygments_lexer": "ipython3",
   "version": "3.10.16"
  }
 },
 "nbformat": 4,
 "nbformat_minor": 5
}
