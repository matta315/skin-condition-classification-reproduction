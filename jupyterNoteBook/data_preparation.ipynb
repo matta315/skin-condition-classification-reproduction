{
 "cells": [
  {
   "cell_type": "markdown",
   "id": "1bc47ab8",
   "metadata": {},
   "source": [
    "import pandas as pd\n",
    "import numpy as np"
   ]
  },
  {
   "cell_type": "code",
   "execution_count": 2,
   "id": "53856df0",
   "metadata": {},
   "outputs": [
    {
     "name": "stdout",
     "output_type": "stream",
     "text": [
      "Requirement already satisfied: pandas in /Users/mmnguyen/.local/share/mise/installs/python/3.10.16/lib/python3.10/site-packages (2.2.3)\n",
      "Requirement already satisfied: numpy>=1.22.4 in /Users/mmnguyen/.local/share/mise/installs/python/3.10.16/lib/python3.10/site-packages (from pandas) (2.1.3)\n",
      "Requirement already satisfied: python-dateutil>=2.8.2 in /Users/mmnguyen/.local/lib/python3.10/site-packages (from pandas) (2.9.0.post0)\n",
      "Requirement already satisfied: pytz>=2020.1 in /Users/mmnguyen/.local/share/mise/installs/python/3.10.16/lib/python3.10/site-packages (from pandas) (2025.2)\n",
      "Requirement already satisfied: tzdata>=2022.7 in /Users/mmnguyen/.local/share/mise/installs/python/3.10.16/lib/python3.10/site-packages (from pandas) (2025.2)\n",
      "Requirement already satisfied: six>=1.5 in /Users/mmnguyen/.local/lib/python3.10/site-packages (from python-dateutil>=2.8.2->pandas) (1.17.0)\n",
      "\n",
      "\u001b[1m[\u001b[0m\u001b[34;49mnotice\u001b[0m\u001b[1;39;49m]\u001b[0m\u001b[39;49m A new release of pip is available: \u001b[0m\u001b[31;49m24.3.1\u001b[0m\u001b[39;49m -> \u001b[0m\u001b[32;49m25.1\u001b[0m\n",
      "\u001b[1m[\u001b[0m\u001b[34;49mnotice\u001b[0m\u001b[1;39;49m]\u001b[0m\u001b[39;49m To update, run: \u001b[0m\u001b[32;49mpip install --upgrade pip\u001b[0m\n",
      "Requirement already satisfied: numpy in /Users/mmnguyen/.local/share/mise/installs/python/3.10.16/lib/python3.10/site-packages (2.1.3)\n",
      "\n",
      "\u001b[1m[\u001b[0m\u001b[34;49mnotice\u001b[0m\u001b[1;39;49m]\u001b[0m\u001b[39;49m A new release of pip is available: \u001b[0m\u001b[31;49m24.3.1\u001b[0m\u001b[39;49m -> \u001b[0m\u001b[32;49m25.1\u001b[0m\n",
      "\u001b[1m[\u001b[0m\u001b[34;49mnotice\u001b[0m\u001b[1;39;49m]\u001b[0m\u001b[39;49m To update, run: \u001b[0m\u001b[32;49mpip install --upgrade pip\u001b[0m\n",
      "Requirement already satisfied: matplotlib in /Users/mmnguyen/.local/share/mise/installs/python/3.10.16/lib/python3.10/site-packages (3.10.1)\n",
      "Requirement already satisfied: contourpy>=1.0.1 in /Users/mmnguyen/.local/share/mise/installs/python/3.10.16/lib/python3.10/site-packages (from matplotlib) (1.3.2)\n",
      "Requirement already satisfied: cycler>=0.10 in /Users/mmnguyen/.local/share/mise/installs/python/3.10.16/lib/python3.10/site-packages (from matplotlib) (0.12.1)\n",
      "Requirement already satisfied: fonttools>=4.22.0 in /Users/mmnguyen/.local/share/mise/installs/python/3.10.16/lib/python3.10/site-packages (from matplotlib) (4.57.0)\n",
      "Requirement already satisfied: kiwisolver>=1.3.1 in /Users/mmnguyen/.local/share/mise/installs/python/3.10.16/lib/python3.10/site-packages (from matplotlib) (1.4.8)\n",
      "Requirement already satisfied: numpy>=1.23 in /Users/mmnguyen/.local/share/mise/installs/python/3.10.16/lib/python3.10/site-packages (from matplotlib) (2.1.3)\n",
      "Requirement already satisfied: packaging>=20.0 in /Users/mmnguyen/.local/lib/python3.10/site-packages (from matplotlib) (24.2)\n",
      "Requirement already satisfied: pillow>=8 in /Users/mmnguyen/.local/share/mise/installs/python/3.10.16/lib/python3.10/site-packages (from matplotlib) (11.2.1)\n",
      "Requirement already satisfied: pyparsing>=2.3.1 in /Users/mmnguyen/.local/share/mise/installs/python/3.10.16/lib/python3.10/site-packages (from matplotlib) (3.2.3)\n",
      "Requirement already satisfied: python-dateutil>=2.7 in /Users/mmnguyen/.local/lib/python3.10/site-packages (from matplotlib) (2.9.0.post0)\n",
      "Requirement already satisfied: six>=1.5 in /Users/mmnguyen/.local/lib/python3.10/site-packages (from python-dateutil>=2.7->matplotlib) (1.17.0)\n",
      "\n",
      "\u001b[1m[\u001b[0m\u001b[34;49mnotice\u001b[0m\u001b[1;39;49m]\u001b[0m\u001b[39;49m A new release of pip is available: \u001b[0m\u001b[31;49m24.3.1\u001b[0m\u001b[39;49m -> \u001b[0m\u001b[32;49m25.1\u001b[0m\n",
      "\u001b[1m[\u001b[0m\u001b[34;49mnotice\u001b[0m\u001b[1;39;49m]\u001b[0m\u001b[39;49m To update, run: \u001b[0m\u001b[32;49mpip install --upgrade pip\u001b[0m\n",
      "Requirement already satisfied: seaborn in /Users/mmnguyen/.local/share/mise/installs/python/3.10.16/lib/python3.10/site-packages (0.13.2)\n",
      "Requirement already satisfied: numpy!=1.24.0,>=1.20 in /Users/mmnguyen/.local/share/mise/installs/python/3.10.16/lib/python3.10/site-packages (from seaborn) (2.1.3)\n",
      "Requirement already satisfied: pandas>=1.2 in /Users/mmnguyen/.local/share/mise/installs/python/3.10.16/lib/python3.10/site-packages (from seaborn) (2.2.3)\n",
      "Requirement already satisfied: matplotlib!=3.6.1,>=3.4 in /Users/mmnguyen/.local/share/mise/installs/python/3.10.16/lib/python3.10/site-packages (from seaborn) (3.10.1)\n",
      "Requirement already satisfied: contourpy>=1.0.1 in /Users/mmnguyen/.local/share/mise/installs/python/3.10.16/lib/python3.10/site-packages (from matplotlib!=3.6.1,>=3.4->seaborn) (1.3.2)\n",
      "Requirement already satisfied: cycler>=0.10 in /Users/mmnguyen/.local/share/mise/installs/python/3.10.16/lib/python3.10/site-packages (from matplotlib!=3.6.1,>=3.4->seaborn) (0.12.1)\n",
      "Requirement already satisfied: fonttools>=4.22.0 in /Users/mmnguyen/.local/share/mise/installs/python/3.10.16/lib/python3.10/site-packages (from matplotlib!=3.6.1,>=3.4->seaborn) (4.57.0)\n",
      "Requirement already satisfied: kiwisolver>=1.3.1 in /Users/mmnguyen/.local/share/mise/installs/python/3.10.16/lib/python3.10/site-packages (from matplotlib!=3.6.1,>=3.4->seaborn) (1.4.8)\n",
      "Requirement already satisfied: packaging>=20.0 in /Users/mmnguyen/.local/lib/python3.10/site-packages (from matplotlib!=3.6.1,>=3.4->seaborn) (24.2)\n",
      "Requirement already satisfied: pillow>=8 in /Users/mmnguyen/.local/share/mise/installs/python/3.10.16/lib/python3.10/site-packages (from matplotlib!=3.6.1,>=3.4->seaborn) (11.2.1)\n",
      "Requirement already satisfied: pyparsing>=2.3.1 in /Users/mmnguyen/.local/share/mise/installs/python/3.10.16/lib/python3.10/site-packages (from matplotlib!=3.6.1,>=3.4->seaborn) (3.2.3)\n",
      "Requirement already satisfied: python-dateutil>=2.7 in /Users/mmnguyen/.local/lib/python3.10/site-packages (from matplotlib!=3.6.1,>=3.4->seaborn) (2.9.0.post0)\n",
      "Requirement already satisfied: pytz>=2020.1 in /Users/mmnguyen/.local/share/mise/installs/python/3.10.16/lib/python3.10/site-packages (from pandas>=1.2->seaborn) (2025.2)\n",
      "Requirement already satisfied: tzdata>=2022.7 in /Users/mmnguyen/.local/share/mise/installs/python/3.10.16/lib/python3.10/site-packages (from pandas>=1.2->seaborn) (2025.2)\n",
      "Requirement already satisfied: six>=1.5 in /Users/mmnguyen/.local/lib/python3.10/site-packages (from python-dateutil>=2.7->matplotlib!=3.6.1,>=3.4->seaborn) (1.17.0)\n",
      "\n",
      "\u001b[1m[\u001b[0m\u001b[34;49mnotice\u001b[0m\u001b[1;39;49m]\u001b[0m\u001b[39;49m A new release of pip is available: \u001b[0m\u001b[31;49m24.3.1\u001b[0m\u001b[39;49m -> \u001b[0m\u001b[32;49m25.1\u001b[0m\n",
      "\u001b[1m[\u001b[0m\u001b[34;49mnotice\u001b[0m\u001b[1;39;49m]\u001b[0m\u001b[39;49m To update, run: \u001b[0m\u001b[32;49mpip install --upgrade pip\u001b[0m\n",
      "Requirement already satisfied: scikit-learn in /Users/mmnguyen/.local/share/mise/installs/python/3.10.16/lib/python3.10/site-packages (1.6.1)\n",
      "Requirement already satisfied: numpy>=1.19.5 in /Users/mmnguyen/.local/share/mise/installs/python/3.10.16/lib/python3.10/site-packages (from scikit-learn) (2.1.3)\n",
      "Requirement already satisfied: scipy>=1.6.0 in /Users/mmnguyen/.local/share/mise/installs/python/3.10.16/lib/python3.10/site-packages (from scikit-learn) (1.15.2)\n",
      "Requirement already satisfied: joblib>=1.2.0 in /Users/mmnguyen/.local/share/mise/installs/python/3.10.16/lib/python3.10/site-packages (from scikit-learn) (1.4.2)\n",
      "Requirement already satisfied: threadpoolctl>=3.1.0 in /Users/mmnguyen/.local/share/mise/installs/python/3.10.16/lib/python3.10/site-packages (from scikit-learn) (3.6.0)\n",
      "\n",
      "\u001b[1m[\u001b[0m\u001b[34;49mnotice\u001b[0m\u001b[1;39;49m]\u001b[0m\u001b[39;49m A new release of pip is available: \u001b[0m\u001b[31;49m24.3.1\u001b[0m\u001b[39;49m -> \u001b[0m\u001b[32;49m25.1\u001b[0m\n",
      "\u001b[1m[\u001b[0m\u001b[34;49mnotice\u001b[0m\u001b[1;39;49m]\u001b[0m\u001b[39;49m To update, run: \u001b[0m\u001b[32;49mpip install --upgrade pip\u001b[0m\n",
      "Requirement already satisfied: tensorflow in /Users/mmnguyen/.local/share/mise/installs/python/3.10.16/lib/python3.10/site-packages (2.19.0)\n",
      "Requirement already satisfied: absl-py>=1.0.0 in /Users/mmnguyen/.local/share/mise/installs/python/3.10.16/lib/python3.10/site-packages (from tensorflow) (2.2.2)\n",
      "Requirement already satisfied: astunparse>=1.6.0 in /Users/mmnguyen/.local/share/mise/installs/python/3.10.16/lib/python3.10/site-packages (from tensorflow) (1.6.3)\n",
      "Requirement already satisfied: flatbuffers>=24.3.25 in /Users/mmnguyen/.local/share/mise/installs/python/3.10.16/lib/python3.10/site-packages (from tensorflow) (25.2.10)\n",
      "Requirement already satisfied: gast!=0.5.0,!=0.5.1,!=0.5.2,>=0.2.1 in /Users/mmnguyen/.local/share/mise/installs/python/3.10.16/lib/python3.10/site-packages (from tensorflow) (0.6.0)\n",
      "Requirement already satisfied: google-pasta>=0.1.1 in /Users/mmnguyen/.local/share/mise/installs/python/3.10.16/lib/python3.10/site-packages (from tensorflow) (0.2.0)\n",
      "Requirement already satisfied: libclang>=13.0.0 in /Users/mmnguyen/.local/share/mise/installs/python/3.10.16/lib/python3.10/site-packages (from tensorflow) (18.1.1)\n",
      "Requirement already satisfied: opt-einsum>=2.3.2 in /Users/mmnguyen/.local/share/mise/installs/python/3.10.16/lib/python3.10/site-packages (from tensorflow) (3.4.0)\n",
      "Requirement already satisfied: packaging in /Users/mmnguyen/.local/lib/python3.10/site-packages (from tensorflow) (24.2)\n",
      "Requirement already satisfied: protobuf!=4.21.0,!=4.21.1,!=4.21.2,!=4.21.3,!=4.21.4,!=4.21.5,<6.0.0dev,>=3.20.3 in /Users/mmnguyen/.local/share/mise/installs/python/3.10.16/lib/python3.10/site-packages (from tensorflow) (5.29.4)\n",
      "Requirement already satisfied: requests<3,>=2.21.0 in /Users/mmnguyen/.local/share/mise/installs/python/3.10.16/lib/python3.10/site-packages (from tensorflow) (2.32.3)\n",
      "Requirement already satisfied: setuptools in /Users/mmnguyen/.local/share/mise/installs/python/3.10.16/lib/python3.10/site-packages (from tensorflow) (75.6.0)\n",
      "Requirement already satisfied: six>=1.12.0 in /Users/mmnguyen/.local/lib/python3.10/site-packages (from tensorflow) (1.17.0)\n",
      "Requirement already satisfied: termcolor>=1.1.0 in /Users/mmnguyen/.local/share/mise/installs/python/3.10.16/lib/python3.10/site-packages (from tensorflow) (3.0.1)\n",
      "Requirement already satisfied: typing-extensions>=3.6.6 in /Users/mmnguyen/.local/lib/python3.10/site-packages (from tensorflow) (4.13.2)\n",
      "Requirement already satisfied: wrapt>=1.11.0 in /Users/mmnguyen/.local/share/mise/installs/python/3.10.16/lib/python3.10/site-packages (from tensorflow) (1.17.2)\n",
      "Requirement already satisfied: grpcio<2.0,>=1.24.3 in /Users/mmnguyen/.local/share/mise/installs/python/3.10.16/lib/python3.10/site-packages (from tensorflow) (1.71.0)\n",
      "Requirement already satisfied: tensorboard~=2.19.0 in /Users/mmnguyen/.local/share/mise/installs/python/3.10.16/lib/python3.10/site-packages (from tensorflow) (2.19.0)\n",
      "Requirement already satisfied: keras>=3.5.0 in /Users/mmnguyen/.local/share/mise/installs/python/3.10.16/lib/python3.10/site-packages (from tensorflow) (3.9.2)\n",
      "Requirement already satisfied: numpy<2.2.0,>=1.26.0 in /Users/mmnguyen/.local/share/mise/installs/python/3.10.16/lib/python3.10/site-packages (from tensorflow) (2.1.3)\n",
      "Requirement already satisfied: h5py>=3.11.0 in /Users/mmnguyen/.local/share/mise/installs/python/3.10.16/lib/python3.10/site-packages (from tensorflow) (3.13.0)\n",
      "Requirement already satisfied: ml-dtypes<1.0.0,>=0.5.1 in /Users/mmnguyen/.local/share/mise/installs/python/3.10.16/lib/python3.10/site-packages (from tensorflow) (0.5.1)\n",
      "Requirement already satisfied: tensorflow-io-gcs-filesystem>=0.23.1 in /Users/mmnguyen/.local/share/mise/installs/python/3.10.16/lib/python3.10/site-packages (from tensorflow) (0.37.1)\n",
      "Requirement already satisfied: wheel<1.0,>=0.23.0 in /Users/mmnguyen/.local/share/mise/installs/python/3.10.16/lib/python3.10/site-packages (from astunparse>=1.6.0->tensorflow) (0.45.1)\n",
      "Requirement already satisfied: rich in /Users/mmnguyen/.local/share/mise/installs/python/3.10.16/lib/python3.10/site-packages (from keras>=3.5.0->tensorflow) (14.0.0)\n",
      "Requirement already satisfied: namex in /Users/mmnguyen/.local/share/mise/installs/python/3.10.16/lib/python3.10/site-packages (from keras>=3.5.0->tensorflow) (0.0.9)\n",
      "Requirement already satisfied: optree in /Users/mmnguyen/.local/share/mise/installs/python/3.10.16/lib/python3.10/site-packages (from keras>=3.5.0->tensorflow) (0.15.0)\n",
      "Requirement already satisfied: charset-normalizer<4,>=2 in /Users/mmnguyen/.local/share/mise/installs/python/3.10.16/lib/python3.10/site-packages (from requests<3,>=2.21.0->tensorflow) (3.4.1)\n",
      "Requirement already satisfied: idna<4,>=2.5 in /Users/mmnguyen/.local/share/mise/installs/python/3.10.16/lib/python3.10/site-packages (from requests<3,>=2.21.0->tensorflow) (3.10)\n",
      "Requirement already satisfied: urllib3<3,>=1.21.1 in /Users/mmnguyen/.local/share/mise/installs/python/3.10.16/lib/python3.10/site-packages (from requests<3,>=2.21.0->tensorflow) (2.4.0)\n",
      "Requirement already satisfied: certifi>=2017.4.17 in /Users/mmnguyen/.local/share/mise/installs/python/3.10.16/lib/python3.10/site-packages (from requests<3,>=2.21.0->tensorflow) (2025.4.26)\n",
      "Requirement already satisfied: markdown>=2.6.8 in /Users/mmnguyen/.local/share/mise/installs/python/3.10.16/lib/python3.10/site-packages (from tensorboard~=2.19.0->tensorflow) (3.8)\n",
      "Requirement already satisfied: tensorboard-data-server<0.8.0,>=0.7.0 in /Users/mmnguyen/.local/share/mise/installs/python/3.10.16/lib/python3.10/site-packages (from tensorboard~=2.19.0->tensorflow) (0.7.2)\n",
      "Requirement already satisfied: werkzeug>=1.0.1 in /Users/mmnguyen/.local/share/mise/installs/python/3.10.16/lib/python3.10/site-packages (from tensorboard~=2.19.0->tensorflow) (3.1.3)\n",
      "Requirement already satisfied: MarkupSafe>=2.1.1 in /Users/mmnguyen/.local/share/mise/installs/python/3.10.16/lib/python3.10/site-packages (from werkzeug>=1.0.1->tensorboard~=2.19.0->tensorflow) (3.0.2)\n",
      "Requirement already satisfied: markdown-it-py>=2.2.0 in /Users/mmnguyen/.local/share/mise/installs/python/3.10.16/lib/python3.10/site-packages (from rich->keras>=3.5.0->tensorflow) (3.0.0)\n",
      "Requirement already satisfied: pygments<3.0.0,>=2.13.0 in /Users/mmnguyen/.local/lib/python3.10/site-packages (from rich->keras>=3.5.0->tensorflow) (2.19.1)\n",
      "Requirement already satisfied: mdurl~=0.1 in /Users/mmnguyen/.local/share/mise/installs/python/3.10.16/lib/python3.10/site-packages (from markdown-it-py>=2.2.0->rich->keras>=3.5.0->tensorflow) (0.1.2)\n",
      "\n",
      "\u001b[1m[\u001b[0m\u001b[34;49mnotice\u001b[0m\u001b[1;39;49m]\u001b[0m\u001b[39;49m A new release of pip is available: \u001b[0m\u001b[31;49m24.3.1\u001b[0m\u001b[39;49m -> \u001b[0m\u001b[32;49m25.1\u001b[0m\n",
      "\u001b[1m[\u001b[0m\u001b[34;49mnotice\u001b[0m\u001b[1;39;49m]\u001b[0m\u001b[39;49m To update, run: \u001b[0m\u001b[32;49mpip install --upgrade pip\u001b[0m\n",
      "Requirement already satisfied: keras in /Users/mmnguyen/.local/share/mise/installs/python/3.10.16/lib/python3.10/site-packages (3.9.2)\n",
      "Requirement already satisfied: absl-py in /Users/mmnguyen/.local/share/mise/installs/python/3.10.16/lib/python3.10/site-packages (from keras) (2.2.2)\n",
      "Requirement already satisfied: numpy in /Users/mmnguyen/.local/share/mise/installs/python/3.10.16/lib/python3.10/site-packages (from keras) (2.1.3)\n",
      "Requirement already satisfied: rich in /Users/mmnguyen/.local/share/mise/installs/python/3.10.16/lib/python3.10/site-packages (from keras) (14.0.0)\n",
      "Requirement already satisfied: namex in /Users/mmnguyen/.local/share/mise/installs/python/3.10.16/lib/python3.10/site-packages (from keras) (0.0.9)\n",
      "Requirement already satisfied: h5py in /Users/mmnguyen/.local/share/mise/installs/python/3.10.16/lib/python3.10/site-packages (from keras) (3.13.0)\n",
      "Requirement already satisfied: optree in /Users/mmnguyen/.local/share/mise/installs/python/3.10.16/lib/python3.10/site-packages (from keras) (0.15.0)\n",
      "Requirement already satisfied: ml-dtypes in /Users/mmnguyen/.local/share/mise/installs/python/3.10.16/lib/python3.10/site-packages (from keras) (0.5.1)\n",
      "Requirement already satisfied: packaging in /Users/mmnguyen/.local/lib/python3.10/site-packages (from keras) (24.2)\n",
      "Requirement already satisfied: typing-extensions>=4.5.0 in /Users/mmnguyen/.local/lib/python3.10/site-packages (from optree->keras) (4.13.2)\n",
      "Requirement already satisfied: markdown-it-py>=2.2.0 in /Users/mmnguyen/.local/share/mise/installs/python/3.10.16/lib/python3.10/site-packages (from rich->keras) (3.0.0)\n",
      "Requirement already satisfied: pygments<3.0.0,>=2.13.0 in /Users/mmnguyen/.local/lib/python3.10/site-packages (from rich->keras) (2.19.1)\n",
      "Requirement already satisfied: mdurl~=0.1 in /Users/mmnguyen/.local/share/mise/installs/python/3.10.16/lib/python3.10/site-packages (from markdown-it-py>=2.2.0->rich->keras) (0.1.2)\n",
      "\n",
      "\u001b[1m[\u001b[0m\u001b[34;49mnotice\u001b[0m\u001b[1;39;49m]\u001b[0m\u001b[39;49m A new release of pip is available: \u001b[0m\u001b[31;49m24.3.1\u001b[0m\u001b[39;49m -> \u001b[0m\u001b[32;49m25.1\u001b[0m\n",
      "\u001b[1m[\u001b[0m\u001b[34;49mnotice\u001b[0m\u001b[1;39;49m]\u001b[0m\u001b[39;49m To update, run: \u001b[0m\u001b[32;49mpip install --upgrade pip\u001b[0m\n",
      "Requirement already satisfied: xgboost in /Users/mmnguyen/.local/share/mise/installs/python/3.10.16/lib/python3.10/site-packages (3.0.0)\n",
      "Requirement already satisfied: numpy in /Users/mmnguyen/.local/share/mise/installs/python/3.10.16/lib/python3.10/site-packages (from xgboost) (2.1.3)\n",
      "Requirement already satisfied: scipy in /Users/mmnguyen/.local/share/mise/installs/python/3.10.16/lib/python3.10/site-packages (from xgboost) (1.15.2)\n",
      "\n",
      "\u001b[1m[\u001b[0m\u001b[34;49mnotice\u001b[0m\u001b[1;39;49m]\u001b[0m\u001b[39;49m A new release of pip is available: \u001b[0m\u001b[31;49m24.3.1\u001b[0m\u001b[39;49m -> \u001b[0m\u001b[32;49m25.1\u001b[0m\n",
      "\u001b[1m[\u001b[0m\u001b[34;49mnotice\u001b[0m\u001b[1;39;49m]\u001b[0m\u001b[39;49m To update, run: \u001b[0m\u001b[32;49mpip install --upgrade pip\u001b[0m\n",
      "Requirement already satisfied: lightgbm in /Users/mmnguyen/.local/share/mise/installs/python/3.10.16/lib/python3.10/site-packages (4.6.0)\n",
      "Requirement already satisfied: numpy>=1.17.0 in /Users/mmnguyen/.local/share/mise/installs/python/3.10.16/lib/python3.10/site-packages (from lightgbm) (2.1.3)\n",
      "Requirement already satisfied: scipy in /Users/mmnguyen/.local/share/mise/installs/python/3.10.16/lib/python3.10/site-packages (from lightgbm) (1.15.2)\n",
      "\n",
      "\u001b[1m[\u001b[0m\u001b[34;49mnotice\u001b[0m\u001b[1;39;49m]\u001b[0m\u001b[39;49m A new release of pip is available: \u001b[0m\u001b[31;49m24.3.1\u001b[0m\u001b[39;49m -> \u001b[0m\u001b[32;49m25.1\u001b[0m\n",
      "\u001b[1m[\u001b[0m\u001b[34;49mnotice\u001b[0m\u001b[1;39;49m]\u001b[0m\u001b[39;49m To update, run: \u001b[0m\u001b[32;49mpip install --upgrade pip\u001b[0m\n",
      "Requirement already satisfied: catboost in /Users/mmnguyen/.local/share/mise/installs/python/3.10.16/lib/python3.10/site-packages (1.2.8)\n",
      "Requirement already satisfied: graphviz in /Users/mmnguyen/.local/share/mise/installs/python/3.10.16/lib/python3.10/site-packages (from catboost) (0.20.3)\n",
      "Requirement already satisfied: matplotlib in /Users/mmnguyen/.local/share/mise/installs/python/3.10.16/lib/python3.10/site-packages (from catboost) (3.10.1)\n",
      "Requirement already satisfied: numpy<3.0,>=1.16.0 in /Users/mmnguyen/.local/share/mise/installs/python/3.10.16/lib/python3.10/site-packages (from catboost) (2.1.3)\n",
      "Requirement already satisfied: pandas>=0.24 in /Users/mmnguyen/.local/share/mise/installs/python/3.10.16/lib/python3.10/site-packages (from catboost) (2.2.3)\n",
      "Requirement already satisfied: scipy in /Users/mmnguyen/.local/share/mise/installs/python/3.10.16/lib/python3.10/site-packages (from catboost) (1.15.2)\n",
      "Requirement already satisfied: plotly in /Users/mmnguyen/.local/share/mise/installs/python/3.10.16/lib/python3.10/site-packages (from catboost) (6.0.1)\n",
      "Requirement already satisfied: six in /Users/mmnguyen/.local/lib/python3.10/site-packages (from catboost) (1.17.0)\n",
      "Requirement already satisfied: python-dateutil>=2.8.2 in /Users/mmnguyen/.local/lib/python3.10/site-packages (from pandas>=0.24->catboost) (2.9.0.post0)\n",
      "Requirement already satisfied: pytz>=2020.1 in /Users/mmnguyen/.local/share/mise/installs/python/3.10.16/lib/python3.10/site-packages (from pandas>=0.24->catboost) (2025.2)\n",
      "Requirement already satisfied: tzdata>=2022.7 in /Users/mmnguyen/.local/share/mise/installs/python/3.10.16/lib/python3.10/site-packages (from pandas>=0.24->catboost) (2025.2)\n",
      "Requirement already satisfied: contourpy>=1.0.1 in /Users/mmnguyen/.local/share/mise/installs/python/3.10.16/lib/python3.10/site-packages (from matplotlib->catboost) (1.3.2)\n",
      "Requirement already satisfied: cycler>=0.10 in /Users/mmnguyen/.local/share/mise/installs/python/3.10.16/lib/python3.10/site-packages (from matplotlib->catboost) (0.12.1)\n",
      "Requirement already satisfied: fonttools>=4.22.0 in /Users/mmnguyen/.local/share/mise/installs/python/3.10.16/lib/python3.10/site-packages (from matplotlib->catboost) (4.57.0)\n",
      "Requirement already satisfied: kiwisolver>=1.3.1 in /Users/mmnguyen/.local/share/mise/installs/python/3.10.16/lib/python3.10/site-packages (from matplotlib->catboost) (1.4.8)\n",
      "Requirement already satisfied: packaging>=20.0 in /Users/mmnguyen/.local/lib/python3.10/site-packages (from matplotlib->catboost) (24.2)\n",
      "Requirement already satisfied: pillow>=8 in /Users/mmnguyen/.local/share/mise/installs/python/3.10.16/lib/python3.10/site-packages (from matplotlib->catboost) (11.2.1)\n",
      "Requirement already satisfied: pyparsing>=2.3.1 in /Users/mmnguyen/.local/share/mise/installs/python/3.10.16/lib/python3.10/site-packages (from matplotlib->catboost) (3.2.3)\n",
      "Requirement already satisfied: narwhals>=1.15.1 in /Users/mmnguyen/.local/share/mise/installs/python/3.10.16/lib/python3.10/site-packages (from plotly->catboost) (1.36.0)\n",
      "\n",
      "\u001b[1m[\u001b[0m\u001b[34;49mnotice\u001b[0m\u001b[1;39;49m]\u001b[0m\u001b[39;49m A new release of pip is available: \u001b[0m\u001b[31;49m24.3.1\u001b[0m\u001b[39;49m -> \u001b[0m\u001b[32;49m25.1\u001b[0m\n",
      "\u001b[1m[\u001b[0m\u001b[34;49mnotice\u001b[0m\u001b[1;39;49m]\u001b[0m\u001b[39;49m To update, run: \u001b[0m\u001b[32;49mpip install --upgrade pip\u001b[0m\n",
      "Requirement already satisfied: imblearn in /Users/mmnguyen/.local/share/mise/installs/python/3.10.16/lib/python3.10/site-packages (0.0)\n",
      "Requirement already satisfied: imbalanced-learn in /Users/mmnguyen/.local/share/mise/installs/python/3.10.16/lib/python3.10/site-packages (from imblearn) (0.13.0)\n",
      "Requirement already satisfied: numpy<3,>=1.24.3 in /Users/mmnguyen/.local/share/mise/installs/python/3.10.16/lib/python3.10/site-packages (from imbalanced-learn->imblearn) (2.1.3)\n",
      "Requirement already satisfied: scipy<2,>=1.10.1 in /Users/mmnguyen/.local/share/mise/installs/python/3.10.16/lib/python3.10/site-packages (from imbalanced-learn->imblearn) (1.15.2)\n",
      "Requirement already satisfied: scikit-learn<2,>=1.3.2 in /Users/mmnguyen/.local/share/mise/installs/python/3.10.16/lib/python3.10/site-packages (from imbalanced-learn->imblearn) (1.6.1)\n",
      "Requirement already satisfied: sklearn-compat<1,>=0.1 in /Users/mmnguyen/.local/share/mise/installs/python/3.10.16/lib/python3.10/site-packages (from imbalanced-learn->imblearn) (0.1.3)\n",
      "Requirement already satisfied: joblib<2,>=1.1.1 in /Users/mmnguyen/.local/share/mise/installs/python/3.10.16/lib/python3.10/site-packages (from imbalanced-learn->imblearn) (1.4.2)\n",
      "Requirement already satisfied: threadpoolctl<4,>=2.0.0 in /Users/mmnguyen/.local/share/mise/installs/python/3.10.16/lib/python3.10/site-packages (from imbalanced-learn->imblearn) (3.6.0)\n",
      "\n",
      "\u001b[1m[\u001b[0m\u001b[34;49mnotice\u001b[0m\u001b[1;39;49m]\u001b[0m\u001b[39;49m A new release of pip is available: \u001b[0m\u001b[31;49m24.3.1\u001b[0m\u001b[39;49m -> \u001b[0m\u001b[32;49m25.1\u001b[0m\n",
      "\u001b[1m[\u001b[0m\u001b[34;49mnotice\u001b[0m\u001b[1;39;49m]\u001b[0m\u001b[39;49m To update, run: \u001b[0m\u001b[32;49mpip install --upgrade pip\u001b[0m\n",
      "Collecting sklearn\n",
      "  Using cached sklearn-0.0.post12.tar.gz (2.6 kB)\n",
      "  Preparing metadata (setup.py) ... \u001b[?25lerror\n",
      "  \u001b[1;31merror\u001b[0m: \u001b[1msubprocess-exited-with-error\u001b[0m\n",
      "  \n",
      "  \u001b[31m×\u001b[0m \u001b[32mpython setup.py egg_info\u001b[0m did not run successfully.\n",
      "  \u001b[31m│\u001b[0m exit code: \u001b[1;36m1\u001b[0m\n",
      "  \u001b[31m╰─>\u001b[0m \u001b[31m[15 lines of output]\u001b[0m\n",
      "  \u001b[31m   \u001b[0m The 'sklearn' PyPI package is deprecated, use 'scikit-learn'\n",
      "  \u001b[31m   \u001b[0m rather than 'sklearn' for pip commands.\n",
      "  \u001b[31m   \u001b[0m \n",
      "  \u001b[31m   \u001b[0m Here is how to fix this error in the main use cases:\n",
      "  \u001b[31m   \u001b[0m - use 'pip install scikit-learn' rather than 'pip install sklearn'\n",
      "  \u001b[31m   \u001b[0m - replace 'sklearn' by 'scikit-learn' in your pip requirements files\n",
      "  \u001b[31m   \u001b[0m   (requirements.txt, setup.py, setup.cfg, Pipfile, etc ...)\n",
      "  \u001b[31m   \u001b[0m - if the 'sklearn' package is used by one of your dependencies,\n",
      "  \u001b[31m   \u001b[0m   it would be great if you take some time to track which package uses\n",
      "  \u001b[31m   \u001b[0m   'sklearn' instead of 'scikit-learn' and report it to their issue tracker\n",
      "  \u001b[31m   \u001b[0m - as a last resort, set the environment variable\n",
      "  \u001b[31m   \u001b[0m   SKLEARN_ALLOW_DEPRECATED_SKLEARN_PACKAGE_INSTALL=True to avoid this error\n",
      "  \u001b[31m   \u001b[0m \n",
      "  \u001b[31m   \u001b[0m More information is available at\n",
      "  \u001b[31m   \u001b[0m https://github.com/scikit-learn/sklearn-pypi-package\n",
      "  \u001b[31m   \u001b[0m \u001b[31m[end of output]\u001b[0m\n",
      "  \n",
      "  \u001b[1;35mnote\u001b[0m: This error originates from a subprocess, and is likely not a problem with pip.\n",
      "\u001b[?25h\n",
      "\u001b[1m[\u001b[0m\u001b[34;49mnotice\u001b[0m\u001b[1;39;49m]\u001b[0m\u001b[39;49m A new release of pip is available: \u001b[0m\u001b[31;49m24.3.1\u001b[0m\u001b[39;49m -> \u001b[0m\u001b[32;49m25.1\u001b[0m\n",
      "\u001b[1m[\u001b[0m\u001b[34;49mnotice\u001b[0m\u001b[1;39;49m]\u001b[0m\u001b[39;49m To update, run: \u001b[0m\u001b[32;49mpip install --upgrade pip\u001b[0m\n",
      "\u001b[1;31merror\u001b[0m: \u001b[1mmetadata-generation-failed\u001b[0m\n",
      "\n",
      "\u001b[31m×\u001b[0m Encountered error while generating package metadata.\n",
      "\u001b[31m╰─>\u001b[0m See above for output.\n",
      "\n",
      "\u001b[1;35mnote\u001b[0m: This is an issue with the package mentioned above, not pip.\n",
      "\u001b[1;36mhint\u001b[0m: See above for details.\n",
      "Requirement already satisfied: tqdm in /Users/mmnguyen/.local/share/mise/installs/python/3.10.16/lib/python3.10/site-packages (4.67.1)\n",
      "\n",
      "\u001b[1m[\u001b[0m\u001b[34;49mnotice\u001b[0m\u001b[1;39;49m]\u001b[0m\u001b[39;49m A new release of pip is available: \u001b[0m\u001b[31;49m24.3.1\u001b[0m\u001b[39;49m -> \u001b[0m\u001b[32;49m25.1\u001b[0m\n",
      "\u001b[1m[\u001b[0m\u001b[34;49mnotice\u001b[0m\u001b[1;39;49m]\u001b[0m\u001b[39;49m To update, run: \u001b[0m\u001b[32;49mpip install --upgrade pip\u001b[0m\n",
      "Requirement already satisfied: requests in /Users/mmnguyen/.local/share/mise/installs/python/3.10.16/lib/python3.10/site-packages (2.32.3)\n",
      "Requirement already satisfied: pillow in /Users/mmnguyen/.local/share/mise/installs/python/3.10.16/lib/python3.10/site-packages (11.2.1)\n",
      "Requirement already satisfied: charset-normalizer<4,>=2 in /Users/mmnguyen/.local/share/mise/installs/python/3.10.16/lib/python3.10/site-packages (from requests) (3.4.1)\n",
      "Requirement already satisfied: idna<4,>=2.5 in /Users/mmnguyen/.local/share/mise/installs/python/3.10.16/lib/python3.10/site-packages (from requests) (3.10)\n",
      "Requirement already satisfied: urllib3<3,>=1.21.1 in /Users/mmnguyen/.local/share/mise/installs/python/3.10.16/lib/python3.10/site-packages (from requests) (2.4.0)\n",
      "Requirement already satisfied: certifi>=2017.4.17 in /Users/mmnguyen/.local/share/mise/installs/python/3.10.16/lib/python3.10/site-packages (from requests) (2025.4.26)\n",
      "\n",
      "\u001b[1m[\u001b[0m\u001b[34;49mnotice\u001b[0m\u001b[1;39;49m]\u001b[0m\u001b[39;49m A new release of pip is available: \u001b[0m\u001b[31;49m24.3.1\u001b[0m\u001b[39;49m -> \u001b[0m\u001b[32;49m25.1\u001b[0m\n",
      "\u001b[1m[\u001b[0m\u001b[34;49mnotice\u001b[0m\u001b[1;39;49m]\u001b[0m\u001b[39;49m To update, run: \u001b[0m\u001b[32;49mpip install --upgrade pip\u001b[0m\n"
     ]
    }
   ],
   "source": [
    "!pip install pandas\n",
    "!pip install numpy\n",
    "!pip install matplotlib\n",
    "!pip install seaborn\n",
    "!pip install scikit-learn\n",
    "!pip install tensorflow\n",
    "!pip install keras\n",
    "!pip install xgboost\n",
    "!pip install lightgbm\n",
    "!pip install catboost\n",
    "!pip install imblearn\n",
    "!pip install sklearn\n",
    "!pip install tqdm\n",
    "!pip install requests pillow\n",
    "\n",
    "\n"
   ]
  },
  {
   "cell_type": "code",
   "execution_count": 4,
   "id": "cea6fc8e",
   "metadata": {},
   "outputs": [],
   "source": [
    "import os\n",
    "import pandas as pd\n",
    "import random\n",
    "import numpy as np\n",
    "import torch\n",
    "import torch.nn as nn\n",
    "import torch.nn.functional as F\n",
    "\n",
    "# set seed\n",
    "seed = 24\n",
    "random.seed(seed)\n",
    "np.random.seed(seed)\n",
    "torch.manual_seed(seed)\n",
    "os.environ[\"PYTHONHASHSEED\"] = str(seed)\n"
   ]
  },
  {
   "cell_type": "markdown",
   "id": "2b5f2e2d",
   "metadata": {},
   "source": [
    "#1. DATA PREPARERATION\n",
    "\n",
    "- Data loading and exploration\n",
    "- Dataset statistics visualization\n",
    "- Preprocessing steps\n",
    "- Data splitting by skin types\n",
    "- Initial data analysis"
   ]
  },
  {
   "cell_type": "markdown",
   "id": "9a66bd8c",
   "metadata": {},
   "source": [
    "## RAW DATA"
   ]
  },
  {
   "cell_type": "code",
   "execution_count": 13,
   "id": "dd35f9db",
   "metadata": {},
   "outputs": [
    {
     "name": "stdout",
     "output_type": "stream",
     "text": [
      "Columns in the dataset: Index(['md5hash', 'fitzpatrick_scale', 'fitzpatrick_centaur', 'label',\n",
      "       'nine_partition_label', 'three_partition_label', 'qc', 'url',\n",
      "       'url_alphanum'],\n",
      "      dtype='object')\n",
      "\n",
      "Sample data:                             md5hash  fitzpatrick_scale  fitzpatrick_centaur  \\\n",
      "0  5e82a45bc5d78bd24ae9202d194423f8                  3                    3   \n",
      "1  fa2911a9b13b6f8af79cb700937cc14f                  1                    1   \n",
      "2  d2bac3c9e4499032ca8e9b07c7d3bc40                  2                    3   \n",
      "3  0a94359e7eaacd7178e06b2823777789                  1                    1   \n",
      "4  a39ec3b1f22c08a421fa20535e037bba                  1                    1   \n",
      "5  45f7fe0e10214e32e890cad9d29d4811                  6                    5   \n",
      "6  6c395be9325dbb10e55497304b398253                  2                    2   \n",
      "7  9dc73230c77ab5c58dc1f11caef39ea2                  2                    1   \n",
      "8  f23937e86de55c3471ac5d0143b67e08                  4                    4   \n",
      "9  09d46db9589ff45436cda87c4abc946b                  3                    2   \n",
      "\n",
      "                             label nine_partition_label three_partition_label  \\\n",
      "0  drug induced pigmentary changes         inflammatory        non-neoplastic   \n",
      "1                  photodermatoses         inflammatory        non-neoplastic   \n",
      "2                   dermatofibroma        benign dermal                benign   \n",
      "3                        psoriasis         inflammatory        non-neoplastic   \n",
      "4                        psoriasis         inflammatory        non-neoplastic   \n",
      "5                   kaposi sarcoma     malignant dermal             malignant   \n",
      "6          neutrophilic dermatoses         inflammatory        non-neoplastic   \n",
      "7               granuloma annulare         inflammatory        non-neoplastic   \n",
      "8               nematode infection         inflammatory        non-neoplastic   \n",
      "9      allergic contact dermatitis         inflammatory        non-neoplastic   \n",
      "\n",
      "    qc                                                url  \\\n",
      "0  NaN  https://www.dermaamin.com/site/images/clinical...   \n",
      "1  NaN  https://www.dermaamin.com/site/images/clinical...   \n",
      "2  NaN  https://www.dermaamin.com/site/images/clinical...   \n",
      "3  NaN  https://www.dermaamin.com/site/images/clinical...   \n",
      "4  NaN  https://www.dermaamin.com/site/images/clinical...   \n",
      "5  NaN  https://www.dermaamin.com/site/images/clinical...   \n",
      "6  NaN  https://www.dermaamin.com/site/images/clinical...   \n",
      "7  NaN  https://www.dermaamin.com/site/images/clinical...   \n",
      "8  NaN  https://www.dermaamin.com/site/images/clinical...   \n",
      "9  NaN  https://www.dermaamin.com/site/images/clinical...   \n",
      "\n",
      "                                        url_alphanum  \n",
      "0  httpwwwdermaamincomsiteimagesclinicalpicmminoc...  \n",
      "1  httpwwwdermaamincomsiteimagesclinicalpicpphoto...  \n",
      "2  httpwwwdermaamincomsiteimagesclinicalpicdderma...  \n",
      "3  httpwwwdermaamincomsiteimagesclinicalpicppsori...  \n",
      "4  httpwwwdermaamincomsiteimagesclinicalpicppsori...  \n",
      "5  httpwwwdermaamincomsiteimagesclinicalpickkapos...  \n",
      "6  httpwwwdermaamincomsiteimagesclinicalpicssweet...  \n",
      "7  httpwwwdermaamincomsiteimagesclinicalpicggranu...  \n",
      "8  httpwwwdermaamincomsiteimagesclinicalpicLlarva...  \n",
      "9  httpwwwdermaamincomsiteimagesclinicalpicaaller...  \n"
     ]
    }
   ],
   "source": [
    "# Analysis of the Fitzpatrick 17k dataset\n",
    "\n",
    "df = pd.read_csv('../data/csv/fitzpatrick17k.csv')\n",
    "\n",
    "# Reduce the dataset to only include psoriasis samples\n",
    "#df = df[df['label'] == 'psoriasis']\n",
    "\n",
    "print(\"Columns in the dataset:\", df.columns)\n",
    "# print(\"Total samples:\", len(df))\n",
    "# print(\"\\nFitzpatrick scale distribution:\")\n",
    "# print(df['fitzpatrick_scale'].value_counts().sort_index())\n",
    "# print(\"\\nNumber of unique conditions:\", df['label'].nunique())\n",
    "# print(\"\\nTop 10 conditions:\")\n",
    "print(\"\\nSample data:\", df.head(10))\n",
    "#print(df['label'].value_counts().head(10))\n",
    "#print(['label']).unique()\n"
   ]
  },
  {
   "cell_type": "markdown",
   "id": "d3f75bd9",
   "metadata": {},
   "source": [
    "## SET UP DATA"
   ]
  },
  {
   "cell_type": "markdown",
   "id": "282c19f4",
   "metadata": {},
   "source": [
    "1. Utils: Function to create organized image storage structure for data"
   ]
  },
  {
   "cell_type": "code",
   "execution_count": 14,
   "id": "d98a5d53",
   "metadata": {},
   "outputs": [],
   "source": [
    "import os\n",
    "import requests\n",
    "from tqdm import tqdm\n",
    "import hashlib\n",
    "\n",
    "def setup_image_storage():\n",
    "    # Create main image directory\n",
    "    base_dir = 'data/images'\n",
    "    os.makedirs(base_dir, exist_ok=True)\n",
    "    \n",
    "    # Create subdirectories for train/val/test (optional)\n",
    "    for split in ['train', 'val', 'test']:\n",
    "        os.makedirs(os.path.join(base_dir, split), exist_ok=True)\n",
    "    \n",
    "    return base_dir\n",
    "\n",
    "def download_image(url, filepath):\n",
    "    try:\n",
    "        response = requests.get(url, timeout=10)\n",
    "        if response.status_code == 200:\n",
    "            with open(filepath, 'wb') as f:\n",
    "                f.write(response.content)\n",
    "            return True\n",
    "    except Exception as e:\n",
    "        print(f\"Error downloading {url}: {str(e)}\")\n",
    "        return False\n",
    "\n",
    "def download_dataset_images(df, base_dir):\n",
    "    \"\"\"\n",
    "    Download images from URLs and save them using md5hash as filename\n",
    "    \"\"\"\n",
    "    print(\"Downloading images...\")\n",
    "    successful_downloads = []\n",
    "    \n",
    "    for idx, row in tqdm(df.iterrows(), total=len(df)):\n",
    "        # Create filepath using md5hash\n",
    "        image_filename = f\"{row['md5hash']}.jpg\"\n",
    "        filepath = os.path.join(base_dir, image_filename)\n",
    "        \n",
    "        # Skip if image already exists\n",
    "        if os.path.exists(filepath):\n",
    "            successful_downloads.append(filepath)\n",
    "            continue\n",
    "            \n",
    "        # Download image if it doesn't exist\n",
    "        if download_image(row['url'], filepath):\n",
    "            successful_downloads.append(filepath)\n",
    "    \n",
    "    return successful_downloads"
   ]
  },
  {
   "cell_type": "code",
   "execution_count": 15,
   "id": "94cd259a",
   "metadata": {},
   "outputs": [],
   "source": [
    "def update_df_with_image_paths(df, base_dir):\n",
    "    \"\"\"\n",
    "    Add local image paths to the DataFrame\n",
    "    \"\"\"\n",
    "    # Create image_path column\n",
    "    df['image_path'] = df['md5hash'].apply(\n",
    "        lambda x: os.path.join(base_dir, f\"{x}.jpg\")\n",
    "    )\n",
    "    \n",
    "    # Verify images exist\n",
    "    df['image_exists'] = df['image_path'].apply(os.path.exists)\n",
    "    \n",
    "    # Filter to only include existing images\n",
    "    df_with_images = df[df['image_exists']].copy()\n",
    "    df_with_images.drop('image_exists', axis=1, inplace=True)\n",
    "    \n",
    "    return df_with_images\n"
   ]
  },
  {
   "cell_type": "markdown",
   "id": "f31acfff",
   "metadata": {},
   "source": [
    "3. Main execution pipeline"
   ]
  },
  {
   "cell_type": "code",
   "execution_count": 17,
   "id": "38ecb650",
   "metadata": {},
   "outputs": [
    {
     "name": "stdout",
     "output_type": "stream",
     "text": [
      "Downloading images...\n"
     ]
    },
    {
     "name": "stderr",
     "output_type": "stream",
     "text": [
      "  1%|          | 147/16577 [00:29<42:49,  6.39it/s]  "
     ]
    },
    {
     "name": "stdout",
     "output_type": "stream",
     "text": [
      "Error downloading nan: Invalid URL 'nan': No scheme supplied. Perhaps you meant https://nan?\n"
     ]
    },
    {
     "name": "stderr",
     "output_type": "stream",
     "text": [
      "  2%|▏         | 351/16577 [01:10<38:24,  7.04it/s]  "
     ]
    },
    {
     "name": "stdout",
     "output_type": "stream",
     "text": [
      "Error downloading nan: Invalid URL 'nan': No scheme supplied. Perhaps you meant https://nan?\n"
     ]
    },
    {
     "name": "stderr",
     "output_type": "stream",
     "text": [
      "  3%|▎         | 537/16577 [01:46<36:30,  7.32it/s]  "
     ]
    },
    {
     "name": "stdout",
     "output_type": "stream",
     "text": [
      "Error downloading nan: Invalid URL 'nan': No scheme supplied. Perhaps you meant https://nan?\n"
     ]
    },
    {
     "name": "stderr",
     "output_type": "stream",
     "text": [
      "  5%|▌         | 868/16577 [02:52<52:53,  4.95it/s]  "
     ]
    },
    {
     "name": "stdout",
     "output_type": "stream",
     "text": [
      "Error downloading nan: Invalid URL 'nan': No scheme supplied. Perhaps you meant https://nan?\n"
     ]
    },
    {
     "name": "stderr",
     "output_type": "stream",
     "text": [
      "  5%|▌         | 879/16577 [02:54<53:33,  4.89it/s]"
     ]
    },
    {
     "name": "stdout",
     "output_type": "stream",
     "text": [
      "Error downloading nan: Invalid URL 'nan': No scheme supplied. Perhaps you meant https://nan?\n"
     ]
    },
    {
     "name": "stderr",
     "output_type": "stream",
     "text": [
      "  6%|▌         | 920/16577 [03:02<37:24,  6.98it/s]  "
     ]
    },
    {
     "name": "stdout",
     "output_type": "stream",
     "text": [
      "Error downloading nan: Invalid URL 'nan': No scheme supplied. Perhaps you meant https://nan?\n"
     ]
    },
    {
     "name": "stderr",
     "output_type": "stream",
     "text": [
      "  8%|▊         | 1324/16577 [04:22<37:04,  6.86it/s]  "
     ]
    },
    {
     "name": "stdout",
     "output_type": "stream",
     "text": [
      "Error downloading nan: Invalid URL 'nan': No scheme supplied. Perhaps you meant https://nan?\n"
     ]
    },
    {
     "name": "stderr",
     "output_type": "stream",
     "text": [
      " 12%|█▏        | 1960/16577 [06:23<36:12,  6.73it/s]  "
     ]
    },
    {
     "name": "stdout",
     "output_type": "stream",
     "text": [
      "Error downloading nan: Invalid URL 'nan': No scheme supplied. Perhaps you meant https://nan?\n"
     ]
    },
    {
     "name": "stderr",
     "output_type": "stream",
     "text": [
      " 12%|█▏        | 1974/16577 [06:26<35:27,  6.86it/s]"
     ]
    },
    {
     "name": "stdout",
     "output_type": "stream",
     "text": [
      "Error downloading nan: Invalid URL 'nan': No scheme supplied. Perhaps you meant https://nan?\n"
     ]
    },
    {
     "name": "stderr",
     "output_type": "stream",
     "text": [
      " 13%|█▎        | 2080/16577 [06:46<35:00,  6.90it/s]"
     ]
    },
    {
     "name": "stdout",
     "output_type": "stream",
     "text": [
      "Error downloading nan: Invalid URL 'nan': No scheme supplied. Perhaps you meant https://nan?\n"
     ]
    },
    {
     "name": "stderr",
     "output_type": "stream",
     "text": [
      " 15%|█▌        | 2521/16577 [08:12<38:57,  6.01it/s]"
     ]
    },
    {
     "name": "stdout",
     "output_type": "stream",
     "text": [
      "Error downloading nan: Invalid URL 'nan': No scheme supplied. Perhaps you meant https://nan?\n"
     ]
    },
    {
     "name": "stderr",
     "output_type": "stream",
     "text": [
      " 18%|█▊        | 2913/16577 [09:39<11:58:35,  3.16s/it]"
     ]
    },
    {
     "name": "stdout",
     "output_type": "stream",
     "text": [
      "Error downloading https://www.dermaamin.com/site/images/clinical-pic/h/hidradenitis_suppurativa/hidradenitis_suppurativa15.jpg: HTTPSConnectionPool(host='www.dermaamin.com', port=443): Read timed out. (read timeout=10)\n"
     ]
    },
    {
     "name": "stderr",
     "output_type": "stream",
     "text": [
      " 22%|██▏       | 3603/16577 [12:02<30:52,  7.00it/s]   "
     ]
    },
    {
     "name": "stdout",
     "output_type": "stream",
     "text": [
      "Error downloading nan: Invalid URL 'nan': No scheme supplied. Perhaps you meant https://nan?\n"
     ]
    },
    {
     "name": "stderr",
     "output_type": "stream",
     "text": [
      " 22%|██▏       | 3672/16577 [12:15<41:49,  5.14it/s]"
     ]
    },
    {
     "name": "stdout",
     "output_type": "stream",
     "text": [
      "Error downloading nan: Invalid URL 'nan': No scheme supplied. Perhaps you meant https://nan?\n"
     ]
    },
    {
     "name": "stderr",
     "output_type": "stream",
     "text": [
      " 26%|██▌       | 4269/16577 [14:10<29:54,  6.86it/s]"
     ]
    },
    {
     "name": "stdout",
     "output_type": "stream",
     "text": [
      "Error downloading nan: Invalid URL 'nan': No scheme supplied. Perhaps you meant https://nan?\n"
     ]
    },
    {
     "name": "stderr",
     "output_type": "stream",
     "text": [
      " 27%|██▋       | 4428/16577 [14:41<29:25,  6.88it/s]"
     ]
    },
    {
     "name": "stdout",
     "output_type": "stream",
     "text": [
      "Error downloading nan: Invalid URL 'nan': No scheme supplied. Perhaps you meant https://nan?\n"
     ]
    },
    {
     "name": "stderr",
     "output_type": "stream",
     "text": [
      " 29%|██▉       | 4797/16577 [15:54<28:52,  6.80it/s]"
     ]
    },
    {
     "name": "stdout",
     "output_type": "stream",
     "text": [
      "Error downloading nan: Invalid URL 'nan': No scheme supplied. Perhaps you meant https://nan?\n"
     ]
    },
    {
     "name": "stderr",
     "output_type": "stream",
     "text": [
      " 33%|███▎      | 5410/16577 [17:56<1:15:09,  2.48it/s]"
     ]
    },
    {
     "name": "stdout",
     "output_type": "stream",
     "text": [
      "Error downloading nan: Invalid URL 'nan': No scheme supplied. Perhaps you meant https://nan?\n"
     ]
    },
    {
     "name": "stderr",
     "output_type": "stream",
     "text": [
      " 33%|███▎      | 5432/16577 [18:01<36:39,  5.07it/s]  "
     ]
    },
    {
     "name": "stdout",
     "output_type": "stream",
     "text": [
      "Error downloading nan: Invalid URL 'nan': No scheme supplied. Perhaps you meant https://nan?\n"
     ]
    },
    {
     "name": "stderr",
     "output_type": "stream",
     "text": [
      " 35%|███▍      | 5789/16577 [19:13<26:27,  6.80it/s]  "
     ]
    },
    {
     "name": "stdout",
     "output_type": "stream",
     "text": [
      "Error downloading nan: Invalid URL 'nan': No scheme supplied. Perhaps you meant https://nan?\n"
     ]
    },
    {
     "name": "stderr",
     "output_type": "stream",
     "text": [
      " 37%|███▋      | 6203/16577 [20:36<28:11,  6.13it/s]  "
     ]
    },
    {
     "name": "stdout",
     "output_type": "stream",
     "text": [
      "Error downloading nan: Invalid URL 'nan': No scheme supplied. Perhaps you meant https://nan?\n"
     ]
    },
    {
     "name": "stderr",
     "output_type": "stream",
     "text": [
      " 44%|████▍     | 7267/16577 [24:02<21:53,  7.09it/s]"
     ]
    },
    {
     "name": "stdout",
     "output_type": "stream",
     "text": [
      "Error downloading nan: Invalid URL 'nan': No scheme supplied. Perhaps you meant https://nan?\n"
     ]
    },
    {
     "name": "stderr",
     "output_type": "stream",
     "text": [
      " 44%|████▍     | 7330/16577 [24:14<24:03,  6.41it/s]"
     ]
    },
    {
     "name": "stdout",
     "output_type": "stream",
     "text": [
      "Error downloading nan: Invalid URL 'nan': No scheme supplied. Perhaps you meant https://nan?\n"
     ]
    },
    {
     "name": "stderr",
     "output_type": "stream",
     "text": [
      " 45%|████▍     | 7446/16577 [24:35<21:31,  7.07it/s]"
     ]
    },
    {
     "name": "stdout",
     "output_type": "stream",
     "text": [
      "Error downloading nan: Invalid URL 'nan': No scheme supplied. Perhaps you meant https://nan?\n"
     ]
    },
    {
     "name": "stderr",
     "output_type": "stream",
     "text": [
      " 46%|████▌     | 7620/16577 [25:08<21:41,  6.88it/s]"
     ]
    },
    {
     "name": "stdout",
     "output_type": "stream",
     "text": [
      "Error downloading nan: Invalid URL 'nan': No scheme supplied. Perhaps you meant https://nan?\n"
     ]
    },
    {
     "name": "stderr",
     "output_type": "stream",
     "text": [
      " 47%|████▋     | 7792/16577 [25:41<20:39,  7.09it/s]"
     ]
    },
    {
     "name": "stdout",
     "output_type": "stream",
     "text": [
      "Error downloading nan: Invalid URL 'nan': No scheme supplied. Perhaps you meant https://nan?\n"
     ]
    },
    {
     "name": "stderr",
     "output_type": "stream",
     "text": [
      " 54%|█████▎    | 8889/16577 [29:11<18:17,  7.00it/s]"
     ]
    },
    {
     "name": "stdout",
     "output_type": "stream",
     "text": [
      "Error downloading nan: Invalid URL 'nan': No scheme supplied. Perhaps you meant https://nan?\n"
     ]
    },
    {
     "name": "stderr",
     "output_type": "stream",
     "text": [
      " 55%|█████▌    | 9128/16577 [29:55<18:12,  6.82it/s]"
     ]
    },
    {
     "name": "stdout",
     "output_type": "stream",
     "text": [
      "Error downloading nan: Invalid URL 'nan': No scheme supplied. Perhaps you meant https://nan?\n"
     ]
    },
    {
     "name": "stderr",
     "output_type": "stream",
     "text": [
      " 58%|█████▊    | 9574/16577 [31:17<16:16,  7.17it/s]"
     ]
    },
    {
     "name": "stdout",
     "output_type": "stream",
     "text": [
      "Error downloading nan: Invalid URL 'nan': No scheme supplied. Perhaps you meant https://nan?\n"
     ]
    },
    {
     "name": "stderr",
     "output_type": "stream",
     "text": [
      " 58%|█████▊    | 9686/16577 [31:38<17:03,  6.73it/s]"
     ]
    },
    {
     "name": "stdout",
     "output_type": "stream",
     "text": [
      "Error downloading nan: Invalid URL 'nan': No scheme supplied. Perhaps you meant https://nan?\n"
     ]
    },
    {
     "name": "stderr",
     "output_type": "stream",
     "text": [
      " 60%|█████▉    | 9933/16577 [32:23<15:07,  7.32it/s]"
     ]
    },
    {
     "name": "stdout",
     "output_type": "stream",
     "text": [
      "Error downloading nan: Invalid URL 'nan': No scheme supplied. Perhaps you meant https://nan?\n"
     ]
    },
    {
     "name": "stderr",
     "output_type": "stream",
     "text": [
      " 60%|██████    | 9967/16577 [32:29<15:27,  7.12it/s]"
     ]
    },
    {
     "name": "stdout",
     "output_type": "stream",
     "text": [
      "Error downloading nan: Invalid URL 'nan': No scheme supplied. Perhaps you meant https://nan?\n"
     ]
    },
    {
     "name": "stderr",
     "output_type": "stream",
     "text": [
      " 64%|██████▍   | 10587/16577 [34:27<14:28,  6.90it/s]"
     ]
    },
    {
     "name": "stdout",
     "output_type": "stream",
     "text": [
      "Error downloading nan: Invalid URL 'nan': No scheme supplied. Perhaps you meant https://nan?\n"
     ]
    },
    {
     "name": "stderr",
     "output_type": "stream",
     "text": [
      " 64%|██████▍   | 10590/16577 [34:37<4:45:19,  2.86s/it]"
     ]
    },
    {
     "name": "stdout",
     "output_type": "stream",
     "text": [
      "Error downloading https://www.dermaamin.com/site/images/clinical-pic/s/seborrheic-keratoses/seborrheic-keratoses64.jpg: HTTPSConnectionPool(host='www.dermaamin.com', port=443): Read timed out. (read timeout=10)\n"
     ]
    },
    {
     "name": "stderr",
     "output_type": "stream",
     "text": [
      " 64%|██████▍   | 10591/16577 [34:47<8:06:22,  4.88s/it]"
     ]
    },
    {
     "name": "stdout",
     "output_type": "stream",
     "text": [
      "Error downloading https://www.dermaamin.com/site/images/clinical-pic/e/epidermolysis_bullosa/epidermolysis_bullosa17.jpg: HTTPSConnectionPool(host='www.dermaamin.com', port=443): Read timed out. (read timeout=10)\n"
     ]
    },
    {
     "name": "stderr",
     "output_type": "stream",
     "text": [
      " 66%|██████▌   | 10914/16577 [35:52<13:51,  6.81it/s]  "
     ]
    },
    {
     "name": "stdout",
     "output_type": "stream",
     "text": [
      "Error downloading nan: Invalid URL 'nan': No scheme supplied. Perhaps you meant https://nan?\n"
     ]
    },
    {
     "name": "stderr",
     "output_type": "stream",
     "text": [
      " 66%|██████▋   | 10985/16577 [36:06<13:20,  6.98it/s]"
     ]
    },
    {
     "name": "stdout",
     "output_type": "stream",
     "text": [
      "Error downloading nan: Invalid URL 'nan': No scheme supplied. Perhaps you meant https://nan?\n"
     ]
    },
    {
     "name": "stderr",
     "output_type": "stream",
     "text": [
      " 67%|██████▋   | 11125/16577 [36:32<12:44,  7.13it/s]"
     ]
    },
    {
     "name": "stdout",
     "output_type": "stream",
     "text": [
      "Error downloading nan: Invalid URL 'nan': No scheme supplied. Perhaps you meant https://nan?\n"
     ]
    },
    {
     "name": "stderr",
     "output_type": "stream",
     "text": [
      " 71%|███████   | 11789/16577 [38:36<12:02,  6.63it/s]"
     ]
    },
    {
     "name": "stdout",
     "output_type": "stream",
     "text": [
      "Error downloading nan: Invalid URL 'nan': No scheme supplied. Perhaps you meant https://nan?\n"
     ]
    },
    {
     "name": "stderr",
     "output_type": "stream",
     "text": [
      " 72%|███████▏  | 11913/16577 [38:58<11:07,  6.99it/s]"
     ]
    },
    {
     "name": "stdout",
     "output_type": "stream",
     "text": [
      "Error downloading nan: Invalid URL 'nan': No scheme supplied. Perhaps you meant https://nan?\n"
     ]
    },
    {
     "name": "stderr",
     "output_type": "stream",
     "text": [
      " 73%|███████▎  | 12158/16577 [39:43<12:18,  5.98it/s]"
     ]
    },
    {
     "name": "stdout",
     "output_type": "stream",
     "text": [
      "Error downloading nan: Invalid URL 'nan': No scheme supplied. Perhaps you meant https://nan?\n"
     ]
    },
    {
     "name": "stderr",
     "output_type": "stream",
     "text": [
      " 74%|███████▎  | 12194/16577 [39:49<10:10,  7.18it/s]"
     ]
    },
    {
     "name": "stdout",
     "output_type": "stream",
     "text": [
      "Error downloading nan: Invalid URL 'nan': No scheme supplied. Perhaps you meant https://nan?\n"
     ]
    },
    {
     "name": "stderr",
     "output_type": "stream",
     "text": [
      " 75%|███████▍  | 12427/16577 [40:33<09:37,  7.19it/s]"
     ]
    },
    {
     "name": "stdout",
     "output_type": "stream",
     "text": [
      "Error downloading nan: Invalid URL 'nan': No scheme supplied. Perhaps you meant https://nan?\n"
     ]
    },
    {
     "name": "stderr",
     "output_type": "stream",
     "text": [
      " 76%|███████▌  | 12537/16577 [40:53<09:37,  6.99it/s]"
     ]
    },
    {
     "name": "stdout",
     "output_type": "stream",
     "text": [
      "Error downloading nan: Invalid URL 'nan': No scheme supplied. Perhaps you meant https://nan?\n"
     ]
    },
    {
     "name": "stderr",
     "output_type": "stream",
     "text": [
      "100%|██████████| 16577/16577 [55:16<00:00,  5.00it/s]"
     ]
    },
    {
     "name": "stdout",
     "output_type": "stream",
     "text": [
      "Successfully downloaded 3887 images\n",
      "Total samples with images: 3887\n"
     ]
    },
    {
     "name": "stderr",
     "output_type": "stream",
     "text": [
      "\n"
     ]
    },
    {
     "ename": "NameError",
     "evalue": "name 'create_data_splits' is not defined",
     "output_type": "error",
     "traceback": [
      "\u001b[0;31m---------------------------------------------------------------------------\u001b[0m",
      "\u001b[0;31mNameError\u001b[0m                                 Traceback (most recent call last)",
      "Cell \u001b[0;32mIn[17], line 23\u001b[0m\n\u001b[1;32m     21\u001b[0m \u001b[38;5;66;03m# Execute\u001b[39;00m\n\u001b[1;32m     22\u001b[0m \u001b[38;5;28;01mif\u001b[39;00m \u001b[38;5;18m__name__\u001b[39m \u001b[38;5;241m==\u001b[39m \u001b[38;5;124m\"\u001b[39m\u001b[38;5;124m__main__\u001b[39m\u001b[38;5;124m\"\u001b[39m:\n\u001b[0;32m---> 23\u001b[0m     train_df, val_df, test_df \u001b[38;5;241m=\u001b[39m \u001b[43mprepare_dataset\u001b[49m\u001b[43m(\u001b[49m\u001b[43m)\u001b[49m\n",
      "Cell \u001b[0;32mIn[17], line 17\u001b[0m, in \u001b[0;36mprepare_dataset\u001b[0;34m()\u001b[0m\n\u001b[1;32m     14\u001b[0m \u001b[38;5;28mprint\u001b[39m(\u001b[38;5;124mf\u001b[39m\u001b[38;5;124m\"\u001b[39m\u001b[38;5;124mTotal samples with images: \u001b[39m\u001b[38;5;132;01m{\u001b[39;00m\u001b[38;5;28mlen\u001b[39m(df_with_images)\u001b[38;5;132;01m}\u001b[39;00m\u001b[38;5;124m\"\u001b[39m)\n\u001b[1;32m     16\u001b[0m \u001b[38;5;66;03m# Create train/val/test splits\u001b[39;00m\n\u001b[0;32m---> 17\u001b[0m train_df, val_df, test_df \u001b[38;5;241m=\u001b[39m \u001b[43mcreate_data_splits\u001b[49m(df_with_images)\n\u001b[1;32m     19\u001b[0m \u001b[38;5;28;01mreturn\u001b[39;00m train_df, val_df, test_df\n",
      "\u001b[0;31mNameError\u001b[0m: name 'create_data_splits' is not defined"
     ]
    }
   ],
   "source": [
    "def prepare_dataset():\n",
    "    # Load CSV\n",
    "    df = pd.read_csv('../data/fitzpatrick17k.csv')\n",
    "    \n",
    "    # Setup image storage\n",
    "    base_dir = setup_image_storage()\n",
    "    \n",
    "    # Download images\n",
    "    successful_downloads = download_dataset_images(df, base_dir)\n",
    "    print(f\"Successfully downloaded {len(successful_downloads)} images\")\n",
    "    \n",
    "    # Update DataFrame with image paths\n",
    "    df_with_images = update_df_with_image_paths(df, base_dir)\n",
    "    print(f\"Total samples with images: {len(df_with_images)}\")\n",
    "    \n",
    "    # Create train/val/test splits\n",
    "    train_df, val_df, test_df = create_data_splits(df_with_images)\n",
    "    \n",
    "    return train_df, val_df, test_df\n",
    "\n",
    "# Execute\n",
    "if __name__ == \"__main__\":\n",
    "    train_df, val_df, test_df = prepare_dataset()\n"
   ]
  },
  {
   "cell_type": "markdown",
   "id": "f27f03de",
   "metadata": {},
   "source": []
  },
  {
   "cell_type": "code",
   "execution_count": 21,
   "id": "3411dd65",
   "metadata": {},
   "outputs": [
    {
     "name": "stdout",
     "output_type": "stream",
     "text": [
      "Starting data split process...\n",
      "Created directory: data/images/train\n",
      "Created directory: data/images/val\n",
      "Created directory: data/images/test\n",
      "\n",
      "Initial split completed:\n",
      "Training set: 2720 images\n",
      "Validation set: 583 images\n",
      "Test set: 584 images\n",
      "\n",
      "Organizing images into split folders...\n",
      "\n",
      "Moving images to train folder...\n"
     ]
    },
    {
     "name": "stderr",
     "output_type": "stream",
     "text": [
      "100%|██████████| 2720/2720 [00:01<00:00, 1872.71it/s]\n"
     ]
    },
    {
     "name": "stdout",
     "output_type": "stream",
     "text": [
      "\n",
      "Moving images to val folder...\n"
     ]
    },
    {
     "name": "stderr",
     "output_type": "stream",
     "text": [
      "100%|██████████| 583/583 [00:00<00:00, 1814.82it/s]\n"
     ]
    },
    {
     "name": "stdout",
     "output_type": "stream",
     "text": [
      "\n",
      "Moving images to test folder...\n"
     ]
    },
    {
     "name": "stderr",
     "output_type": "stream",
     "text": [
      "100%|██████████| 584/584 [00:00<00:00, 1747.47it/s]"
     ]
    },
    {
     "name": "stdout",
     "output_type": "stream",
     "text": [
      "\n",
      "Final dataset split sizes (after removing any failed transfers):\n",
      "Training set: 2720 images\n",
      "Validation set: 583 images\n",
      "Test set: 584 images\n",
      "\n",
      "Split CSVs saved successfully!\n",
      "\n",
      "Data split completed successfully!\n"
     ]
    },
    {
     "name": "stderr",
     "output_type": "stream",
     "text": [
      "\n"
     ]
    }
   ],
   "source": [
    "from sklearn.model_selection import train_test_split\n",
    "import shutil\n",
    "import os\n",
    "from tqdm import tqdm\n",
    "import pandas as pd\n",
    "\n",
    "def create_data_splits(df_with_images, base_dir='data/images', train_size=0.7, val_size=0.15):\n",
    "    \"\"\"\n",
    "    Split data into train/val/test sets and organize images into respective folders\n",
    "    \n",
    "    Args:\n",
    "        df_with_images: DataFrame with image paths\n",
    "        base_dir: Base directory for images\n",
    "        train_size: Proportion of data for training (default 0.7)\n",
    "        val_size: Proportion of data for validation (default 0.15)\n",
    "    Returns:\n",
    "        train_df, val_df, test_df: DataFrames containing split data\n",
    "    \"\"\"\n",
    "    print(\"Starting data split process...\")\n",
    "    \n",
    "    # Create directories if they don't exist\n",
    "    for split in ['train', 'val', 'test']:\n",
    "        split_dir = os.path.join(base_dir, split)\n",
    "        os.makedirs(split_dir, exist_ok=True)\n",
    "        print(f\"Created directory: {split_dir}\")\n",
    "\n",
    "    # First split into train and temp\n",
    "    try:\n",
    "        train_df, temp_df = train_test_split(\n",
    "            df_with_images,\n",
    "            train_size=train_size,\n",
    "            stratify=df_with_images['fitzpatrick_scale'],\n",
    "            random_state=42\n",
    "        )\n",
    "        \n",
    "        # Split temp into val and test\n",
    "        val_size_adjusted = val_size / (1 - train_size)\n",
    "        val_df, test_df = train_test_split(\n",
    "            temp_df,\n",
    "            train_size=val_size_adjusted,\n",
    "            stratify=temp_df['fitzpatrick_scale'],\n",
    "            random_state=42\n",
    "        )\n",
    "        \n",
    "        print(\"\\nInitial split completed:\")\n",
    "        print(f\"Training set: {len(train_df)} images\")\n",
    "        print(f\"Validation set: {len(val_df)} images\")\n",
    "        print(f\"Test set: {len(test_df)} images\")\n",
    "        \n",
    "    except Exception as e:\n",
    "        print(f\"Error during data splitting: {str(e)}\")\n",
    "        return None, None, None\n",
    "\n",
    "    # Function to move images\n",
    "    def move_images(df, split_name):\n",
    "        split_dir = os.path.join(base_dir, split_name)\n",
    "        moved_paths = []\n",
    "        \n",
    "        print(f\"\\nMoving images to {split_name} folder...\")\n",
    "        for _, row in tqdm(df.iterrows(), total=len(df)):\n",
    "            try:\n",
    "                src_path = row['image_path']\n",
    "                if os.path.exists(src_path):\n",
    "                    # Create new path in split directory\n",
    "                    dst_path = os.path.join(split_dir, f\"{row['md5hash']}.jpg\")\n",
    "                    \n",
    "                    # Copy the file if it doesn't exist in destination\n",
    "                    if not os.path.exists(dst_path):\n",
    "                        shutil.copy2(src_path, dst_path)\n",
    "                    \n",
    "                    moved_paths.append(dst_path)\n",
    "                else:\n",
    "                    print(f\"Warning: Source image not found: {src_path}\")\n",
    "                    moved_paths.append(None)\n",
    "            except Exception as e:\n",
    "                print(f\"Error moving image {row['md5hash']}: {str(e)}\")\n",
    "                moved_paths.append(None)\n",
    "        \n",
    "        return moved_paths\n",
    "\n",
    "    # Move images and update paths\n",
    "    print(\"\\nOrganizing images into split folders...\")\n",
    "    train_df['image_path'] = move_images(train_df, 'train')\n",
    "    val_df['image_path'] = move_images(val_df, 'val')\n",
    "    test_df['image_path'] = move_images(test_df, 'test')\n",
    "\n",
    "    # Remove rows with failed moves\n",
    "    train_df = train_df.dropna(subset=['image_path'])\n",
    "    val_df = val_df.dropna(subset=['image_path'])\n",
    "    test_df = test_df.dropna(subset=['image_path'])\n",
    "\n",
    "    # Print final statistics\n",
    "    print(\"\\nFinal dataset split sizes (after removing any failed transfers):\")\n",
    "    print(f\"Training set: {len(train_df)} images\")\n",
    "    print(f\"Validation set: {len(val_df)} images\")\n",
    "    print(f\"Test set: {len(test_df)} images\")\n",
    "\n",
    "    # Save splits to CSV\n",
    "    try:\n",
    "        train_df.to_csv(os.path.join(base_dir, 'train_split.csv'), index=False)\n",
    "        val_df.to_csv(os.path.join(base_dir, 'val_split.csv'), index=False)\n",
    "        test_df.to_csv(os.path.join(base_dir, 'test_split.csv'), index=False)\n",
    "        print(\"\\nSplit CSVs saved successfully!\")\n",
    "    except Exception as e:\n",
    "        print(f\"Error saving CSV files: {str(e)}\")\n",
    "\n",
    "    return train_df, val_df, test_df\n",
    "\n",
    "# Example usage:\n",
    "if __name__ == \"__main__\":\n",
    "    # Load your existing DataFrame\n",
    "    try:\n",
    "        base_dir = 'data/images'\n",
    "        \n",
    "        # Update image paths if needed\n",
    "        df_with_images = update_df_with_image_paths(df, base_dir)\n",
    "        \n",
    "        # Create splits\n",
    "        train_df, val_df, test_df = create_data_splits(df_with_images, base_dir)\n",
    "        \n",
    "        if train_df is not None:\n",
    "            print(\"\\nData split completed successfully!\")\n",
    "            \n",
    "    except Exception as e:\n",
    "        print(f\"Error in main execution: {str(e)}\")\n"
   ]
  },
  {
   "cell_type": "code",
   "execution_count": 19,
   "id": "823b8ea1",
   "metadata": {},
   "outputs": [
    {
     "ename": "ValueError",
     "evalue": "The least populated class in y has only 1 member, which is too few. The minimum number of groups for any class cannot be less than 2.",
     "output_type": "error",
     "traceback": [
      "\u001b[0;31m---------------------------------------------------------------------------\u001b[0m",
      "\u001b[0;31mValueError\u001b[0m                                Traceback (most recent call last)",
      "Cell \u001b[0;32mIn[19], line 7\u001b[0m\n\u001b[1;32m      4\u001b[0m df_with_images \u001b[38;5;241m=\u001b[39m update_df_with_image_paths(df, base_dir)\n\u001b[1;32m      6\u001b[0m \u001b[38;5;66;03m# Create splits and organize images\u001b[39;00m\n\u001b[0;32m----> 7\u001b[0m train_df, val_df, test_df \u001b[38;5;241m=\u001b[39m \u001b[43mcreate_data_splits\u001b[49m\u001b[43m(\u001b[49m\u001b[43mdf_with_images\u001b[49m\u001b[43m,\u001b[49m\u001b[43m \u001b[49m\u001b[43mbase_dir\u001b[49m\u001b[43m)\u001b[49m\n",
      "Cell \u001b[0;32mIn[18], line 16\u001b[0m, in \u001b[0;36mcreate_data_splits\u001b[0;34m(df_with_images, base_dir, train_size, val_size)\u001b[0m\n\u001b[1;32m      5\u001b[0m \u001b[38;5;250m\u001b[39m\u001b[38;5;124;03m\"\"\"\u001b[39;00m\n\u001b[1;32m      6\u001b[0m \u001b[38;5;124;03mSplit data into train/val/test sets and organize images into respective folders\u001b[39;00m\n\u001b[1;32m      7\u001b[0m \u001b[38;5;124;03m\u001b[39;00m\n\u001b[0;32m   (...)\u001b[0m\n\u001b[1;32m     13\u001b[0m \u001b[38;5;124;03m    (test_size will be the remainder)\u001b[39;00m\n\u001b[1;32m     14\u001b[0m \u001b[38;5;124;03m\"\"\"\u001b[39;00m\n\u001b[1;32m     15\u001b[0m \u001b[38;5;66;03m# First split into train and temp\u001b[39;00m\n\u001b[0;32m---> 16\u001b[0m train_df, temp_df \u001b[38;5;241m=\u001b[39m \u001b[43mtrain_test_split\u001b[49m\u001b[43m(\u001b[49m\n\u001b[1;32m     17\u001b[0m \u001b[43m    \u001b[49m\u001b[43mdf_with_images\u001b[49m\u001b[43m,\u001b[49m\n\u001b[1;32m     18\u001b[0m \u001b[43m    \u001b[49m\u001b[43mtrain_size\u001b[49m\u001b[38;5;241;43m=\u001b[39;49m\u001b[43mtrain_size\u001b[49m\u001b[43m,\u001b[49m\n\u001b[1;32m     19\u001b[0m \u001b[43m    \u001b[49m\u001b[43mstratify\u001b[49m\u001b[38;5;241;43m=\u001b[39;49m\u001b[43mdf_with_images\u001b[49m\u001b[43m[\u001b[49m\u001b[43m[\u001b[49m\u001b[38;5;124;43m'\u001b[39;49m\u001b[38;5;124;43mfitzpatrick_scale\u001b[39;49m\u001b[38;5;124;43m'\u001b[39;49m\u001b[43m,\u001b[49m\u001b[43m \u001b[49m\u001b[38;5;124;43m'\u001b[39;49m\u001b[38;5;124;43mlabel\u001b[39;49m\u001b[38;5;124;43m'\u001b[39;49m\u001b[43m]\u001b[49m\u001b[43m]\u001b[49m\u001b[43m,\u001b[49m\n\u001b[1;32m     20\u001b[0m \u001b[43m    \u001b[49m\u001b[43mrandom_state\u001b[49m\u001b[38;5;241;43m=\u001b[39;49m\u001b[38;5;241;43m42\u001b[39;49m\n\u001b[1;32m     21\u001b[0m \u001b[43m\u001b[49m\u001b[43m)\u001b[49m\n\u001b[1;32m     23\u001b[0m \u001b[38;5;66;03m# Split temp into val and test\u001b[39;00m\n\u001b[1;32m     24\u001b[0m val_size_adjusted \u001b[38;5;241m=\u001b[39m val_size \u001b[38;5;241m/\u001b[39m (\u001b[38;5;241m1\u001b[39m \u001b[38;5;241m-\u001b[39m train_size)\n",
      "File \u001b[0;32m~/.local/share/mise/installs/python/3.10.16/lib/python3.10/site-packages/sklearn/utils/_param_validation.py:216\u001b[0m, in \u001b[0;36mvalidate_params.<locals>.decorator.<locals>.wrapper\u001b[0;34m(*args, **kwargs)\u001b[0m\n\u001b[1;32m    210\u001b[0m \u001b[38;5;28;01mtry\u001b[39;00m:\n\u001b[1;32m    211\u001b[0m     \u001b[38;5;28;01mwith\u001b[39;00m config_context(\n\u001b[1;32m    212\u001b[0m         skip_parameter_validation\u001b[38;5;241m=\u001b[39m(\n\u001b[1;32m    213\u001b[0m             prefer_skip_nested_validation \u001b[38;5;129;01mor\u001b[39;00m global_skip_validation\n\u001b[1;32m    214\u001b[0m         )\n\u001b[1;32m    215\u001b[0m     ):\n\u001b[0;32m--> 216\u001b[0m         \u001b[38;5;28;01mreturn\u001b[39;00m \u001b[43mfunc\u001b[49m\u001b[43m(\u001b[49m\u001b[38;5;241;43m*\u001b[39;49m\u001b[43margs\u001b[49m\u001b[43m,\u001b[49m\u001b[43m \u001b[49m\u001b[38;5;241;43m*\u001b[39;49m\u001b[38;5;241;43m*\u001b[39;49m\u001b[43mkwargs\u001b[49m\u001b[43m)\u001b[49m\n\u001b[1;32m    217\u001b[0m \u001b[38;5;28;01mexcept\u001b[39;00m InvalidParameterError \u001b[38;5;28;01mas\u001b[39;00m e:\n\u001b[1;32m    218\u001b[0m     \u001b[38;5;66;03m# When the function is just a wrapper around an estimator, we allow\u001b[39;00m\n\u001b[1;32m    219\u001b[0m     \u001b[38;5;66;03m# the function to delegate validation to the estimator, but we replace\u001b[39;00m\n\u001b[1;32m    220\u001b[0m     \u001b[38;5;66;03m# the name of the estimator by the name of the function in the error\u001b[39;00m\n\u001b[1;32m    221\u001b[0m     \u001b[38;5;66;03m# message to avoid confusion.\u001b[39;00m\n\u001b[1;32m    222\u001b[0m     msg \u001b[38;5;241m=\u001b[39m re\u001b[38;5;241m.\u001b[39msub(\n\u001b[1;32m    223\u001b[0m         \u001b[38;5;124mr\u001b[39m\u001b[38;5;124m\"\u001b[39m\u001b[38;5;124mparameter of \u001b[39m\u001b[38;5;124m\\\u001b[39m\u001b[38;5;124mw+ must be\u001b[39m\u001b[38;5;124m\"\u001b[39m,\n\u001b[1;32m    224\u001b[0m         \u001b[38;5;124mf\u001b[39m\u001b[38;5;124m\"\u001b[39m\u001b[38;5;124mparameter of \u001b[39m\u001b[38;5;132;01m{\u001b[39;00mfunc\u001b[38;5;241m.\u001b[39m\u001b[38;5;18m__qualname__\u001b[39m\u001b[38;5;132;01m}\u001b[39;00m\u001b[38;5;124m must be\u001b[39m\u001b[38;5;124m\"\u001b[39m,\n\u001b[1;32m    225\u001b[0m         \u001b[38;5;28mstr\u001b[39m(e),\n\u001b[1;32m    226\u001b[0m     )\n",
      "File \u001b[0;32m~/.local/share/mise/installs/python/3.10.16/lib/python3.10/site-packages/sklearn/model_selection/_split.py:2872\u001b[0m, in \u001b[0;36mtrain_test_split\u001b[0;34m(test_size, train_size, random_state, shuffle, stratify, *arrays)\u001b[0m\n\u001b[1;32m   2868\u001b[0m         CVClass \u001b[38;5;241m=\u001b[39m ShuffleSplit\n\u001b[1;32m   2870\u001b[0m     cv \u001b[38;5;241m=\u001b[39m CVClass(test_size\u001b[38;5;241m=\u001b[39mn_test, train_size\u001b[38;5;241m=\u001b[39mn_train, random_state\u001b[38;5;241m=\u001b[39mrandom_state)\n\u001b[0;32m-> 2872\u001b[0m     train, test \u001b[38;5;241m=\u001b[39m \u001b[38;5;28;43mnext\u001b[39;49m\u001b[43m(\u001b[49m\u001b[43mcv\u001b[49m\u001b[38;5;241;43m.\u001b[39;49m\u001b[43msplit\u001b[49m\u001b[43m(\u001b[49m\u001b[43mX\u001b[49m\u001b[38;5;241;43m=\u001b[39;49m\u001b[43marrays\u001b[49m\u001b[43m[\u001b[49m\u001b[38;5;241;43m0\u001b[39;49m\u001b[43m]\u001b[49m\u001b[43m,\u001b[49m\u001b[43m \u001b[49m\u001b[43my\u001b[49m\u001b[38;5;241;43m=\u001b[39;49m\u001b[43mstratify\u001b[49m\u001b[43m)\u001b[49m\u001b[43m)\u001b[49m\n\u001b[1;32m   2874\u001b[0m train, test \u001b[38;5;241m=\u001b[39m ensure_common_namespace_device(arrays[\u001b[38;5;241m0\u001b[39m], train, test)\n\u001b[1;32m   2876\u001b[0m \u001b[38;5;28;01mreturn\u001b[39;00m \u001b[38;5;28mlist\u001b[39m(\n\u001b[1;32m   2877\u001b[0m     chain\u001b[38;5;241m.\u001b[39mfrom_iterable(\n\u001b[1;32m   2878\u001b[0m         (_safe_indexing(a, train), _safe_indexing(a, test)) \u001b[38;5;28;01mfor\u001b[39;00m a \u001b[38;5;129;01min\u001b[39;00m arrays\n\u001b[1;32m   2879\u001b[0m     )\n\u001b[1;32m   2880\u001b[0m )\n",
      "File \u001b[0;32m~/.local/share/mise/installs/python/3.10.16/lib/python3.10/site-packages/sklearn/model_selection/_split.py:1909\u001b[0m, in \u001b[0;36mBaseShuffleSplit.split\u001b[0;34m(self, X, y, groups)\u001b[0m\n\u001b[1;32m   1879\u001b[0m \u001b[38;5;250m\u001b[39m\u001b[38;5;124;03m\"\"\"Generate indices to split data into training and test set.\u001b[39;00m\n\u001b[1;32m   1880\u001b[0m \n\u001b[1;32m   1881\u001b[0m \u001b[38;5;124;03mParameters\u001b[39;00m\n\u001b[0;32m   (...)\u001b[0m\n\u001b[1;32m   1906\u001b[0m \u001b[38;5;124;03mto an integer.\u001b[39;00m\n\u001b[1;32m   1907\u001b[0m \u001b[38;5;124;03m\"\"\"\u001b[39;00m\n\u001b[1;32m   1908\u001b[0m X, y, groups \u001b[38;5;241m=\u001b[39m indexable(X, y, groups)\n\u001b[0;32m-> 1909\u001b[0m \u001b[38;5;28;01mfor\u001b[39;00m train, test \u001b[38;5;129;01min\u001b[39;00m \u001b[38;5;28mself\u001b[39m\u001b[38;5;241m.\u001b[39m_iter_indices(X, y, groups):\n\u001b[1;32m   1910\u001b[0m     \u001b[38;5;28;01myield\u001b[39;00m train, test\n",
      "File \u001b[0;32m~/.local/share/mise/installs/python/3.10.16/lib/python3.10/site-packages/sklearn/model_selection/_split.py:2318\u001b[0m, in \u001b[0;36mStratifiedShuffleSplit._iter_indices\u001b[0;34m(self, X, y, groups)\u001b[0m\n\u001b[1;32m   2316\u001b[0m class_counts \u001b[38;5;241m=\u001b[39m np\u001b[38;5;241m.\u001b[39mbincount(y_indices)\n\u001b[1;32m   2317\u001b[0m \u001b[38;5;28;01mif\u001b[39;00m np\u001b[38;5;241m.\u001b[39mmin(class_counts) \u001b[38;5;241m<\u001b[39m \u001b[38;5;241m2\u001b[39m:\n\u001b[0;32m-> 2318\u001b[0m     \u001b[38;5;28;01mraise\u001b[39;00m \u001b[38;5;167;01mValueError\u001b[39;00m(\n\u001b[1;32m   2319\u001b[0m         \u001b[38;5;124m\"\u001b[39m\u001b[38;5;124mThe least populated class in y has only 1\u001b[39m\u001b[38;5;124m\"\u001b[39m\n\u001b[1;32m   2320\u001b[0m         \u001b[38;5;124m\"\u001b[39m\u001b[38;5;124m member, which is too few. The minimum\u001b[39m\u001b[38;5;124m\"\u001b[39m\n\u001b[1;32m   2321\u001b[0m         \u001b[38;5;124m\"\u001b[39m\u001b[38;5;124m number of groups for any class cannot\u001b[39m\u001b[38;5;124m\"\u001b[39m\n\u001b[1;32m   2322\u001b[0m         \u001b[38;5;124m\"\u001b[39m\u001b[38;5;124m be less than 2.\u001b[39m\u001b[38;5;124m\"\u001b[39m\n\u001b[1;32m   2323\u001b[0m     )\n\u001b[1;32m   2325\u001b[0m \u001b[38;5;28;01mif\u001b[39;00m n_train \u001b[38;5;241m<\u001b[39m n_classes:\n\u001b[1;32m   2326\u001b[0m     \u001b[38;5;28;01mraise\u001b[39;00m \u001b[38;5;167;01mValueError\u001b[39;00m(\n\u001b[1;32m   2327\u001b[0m         \u001b[38;5;124m\"\u001b[39m\u001b[38;5;124mThe train_size = \u001b[39m\u001b[38;5;132;01m%d\u001b[39;00m\u001b[38;5;124m should be greater or \u001b[39m\u001b[38;5;124m\"\u001b[39m\n\u001b[1;32m   2328\u001b[0m         \u001b[38;5;124m\"\u001b[39m\u001b[38;5;124mequal to the number of classes = \u001b[39m\u001b[38;5;132;01m%d\u001b[39;00m\u001b[38;5;124m\"\u001b[39m \u001b[38;5;241m%\u001b[39m (n_train, n_classes)\n\u001b[1;32m   2329\u001b[0m     )\n",
      "\u001b[0;31mValueError\u001b[0m: The least populated class in y has only 1 member, which is too few. The minimum number of groups for any class cannot be less than 2."
     ]
    }
   ],
   "source": [
    "base_dir = 'data/images'\n",
    "\n",
    "# Update image paths\n",
    "df_with_images = update_df_with_image_paths(df, base_dir)\n",
    "\n",
    "# Create splits and organize images\n",
    "train_df, val_df, test_df = create_data_splits(df_with_images, base_dir)"
   ]
  },
  {
   "cell_type": "code",
   "execution_count": null,
   "id": "cb344704",
   "metadata": {},
   "outputs": [],
   "source": []
  },
  {
   "cell_type": "markdown",
   "id": "152b4eee",
   "metadata": {},
   "source": []
  },
  {
   "cell_type": "markdown",
   "id": "0dfbbf97",
   "metadata": {},
   "source": []
  },
  {
   "cell_type": "markdown",
   "id": "6800e245",
   "metadata": {},
   "source": []
  },
  {
   "cell_type": "markdown",
   "id": "82239c3e",
   "metadata": {},
   "source": []
  },
  {
   "cell_type": "markdown",
   "id": "60f17a91",
   "metadata": {},
   "source": []
  },
  {
   "cell_type": "markdown",
   "id": "3667b6e7",
   "metadata": {},
   "source": []
  },
  {
   "cell_type": "markdown",
   "id": "7ea993f9",
   "metadata": {},
   "source": []
  },
  {
   "cell_type": "markdown",
   "id": "7ad9d2d7",
   "metadata": {},
   "source": []
  },
  {
   "cell_type": "markdown",
   "id": "d03109a9",
   "metadata": {},
   "source": []
  },
  {
   "cell_type": "markdown",
   "id": "ab6054e6",
   "metadata": {},
   "source": [
    "#2. BUILD MODEL\n",
    "\n",
    "- nVGG-16 implementation\n",
    "- Model architecture modifications\n",
    "- Training setup\n",
    "- Hyperparameter tuning"
   ]
  },
  {
   "cell_type": "markdown",
   "id": "3f64bd71",
   "metadata": {},
   "source": [
    "#3 Training_evaluation\n",
    "- Model training\n",
    "- Performance monitoring\n",
    "- Learning curves\n",
    "- Cross-validation results"
   ]
  },
  {
   "cell_type": "markdown",
   "id": "11440f07",
   "metadata": {},
   "source": [
    "\n",
    "#4 Results_analysis\n",
    "- Performance metrics by skin type\n",
    "- Visualization of results\n",
    "- Bias analysis\n",
    "- Comparison with original paper"
   ]
  }
 ],
 "metadata": {
  "kernelspec": {
   "display_name": "Python 3",
   "language": "python",
   "name": "python3"
  },
  "language_info": {
   "codemirror_mode": {
    "name": "ipython",
    "version": 3
   },
   "file_extension": ".py",
   "mimetype": "text/x-python",
   "name": "python",
   "nbconvert_exporter": "python",
   "pygments_lexer": "ipython3",
   "version": "3.10.16"
  }
 },
 "nbformat": 4,
 "nbformat_minor": 5
}
