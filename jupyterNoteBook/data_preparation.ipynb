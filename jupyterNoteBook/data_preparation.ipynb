{
 "cells": [
  {
   "cell_type": "code",
   "execution_count": 24,
   "id": "6d964bed",
   "metadata": {},
   "outputs": [],
   "source": [
    "#!/usr/bin/env python\n",
    "# coding: utf-8"
   ]
  },
  {
   "cell_type": "code",
   "execution_count": 25,
   "id": "0c99e241",
   "metadata": {},
   "outputs": [],
   "source": [
    "import pandas as pd\n",
    "import os\n",
    "import random\n",
    "import numpy as np\n",
    "import torch\n",
    "import torch.nn as nn\n",
    "import torch.nn.functional as F\n",
    "import time\n",
    "from tqdm import tqdm\n",
    "import matplotlib.pyplot as plt\n",
    "\n",
    "\n",
    "# record start time\n",
    "_START_RUNTIME = time.time()\n",
    "\n",
    "# set seed\n",
    "seed = 24\n",
    "random.seed(seed)\n",
    "np.random.seed(seed)\n",
    "torch.manual_seed(seed)\n",
    "os.environ[\"PYTHONHASHSEED\"] = str(seed)\n",
    "\n",
    "# Define data and weight path\n",
    "DATA_PATH = \"../data/raw/fitzpatrick17k.csv\""
   ]
  },
  {
   "cell_type": "markdown",
   "id": "04900058",
   "metadata": {},
   "source": [
    "## About Raw Data\n",
    "https://github.com/mattgroh/fitzpatrick17k/blob/main/fitzpatrick17k.csv"
   ]
  },
  {
   "cell_type": "code",
   "execution_count": 26,
   "id": "a63956b6",
   "metadata": {},
   "outputs": [
    {
     "name": "stdout",
     "output_type": "stream",
     "text": [
      "Columns in the dataset: Index(['md5hash', 'fitzpatrick_scale', 'fitzpatrick_centaur', 'label',\n",
      "       'nine_partition_label', 'three_partition_label', 'qc', 'url',\n",
      "       'url_alphanum'],\n",
      "      dtype='object')\n",
      "Total samples: 16577\n",
      "\n",
      "Fitzpatrick scale distribution:\n",
      "fitzpatrick_scale\n",
      "-1     565\n",
      " 1    2947\n",
      " 2    4808\n",
      " 3    3308\n",
      " 4    2781\n",
      " 5    1533\n",
      " 6     635\n",
      "Name: count, dtype: int64\n",
      "\n",
      "Number of unique conditions: 114\n",
      "\n",
      "Top 10 conditions:\n",
      "label\n",
      "psoriasis                      653\n",
      "squamous cell carcinoma        581\n",
      "lichen planus                  491\n",
      "basal cell carcinoma           468\n",
      "allergic contact dermatitis    430\n",
      "lupus erythematosus            410\n",
      "neutrophilic dermatoses        361\n",
      "sarcoidosis                    349\n",
      "photodermatoses                348\n",
      "folliculitis                   342\n",
      "Name: count, dtype: int64\n"
     ]
    }
   ],
   "source": [
    "# Analysis of the Fitzpatrick 17k dataset\n",
    "\n",
    "df = pd.read_csv(DATA_PATH)\n",
    "\n",
    "print(\"Columns in the dataset:\", df.columns)\n",
    "print(\"Total samples:\", len(df))\n",
    "print(\"\\nFitzpatrick scale distribution:\")\n",
    "print(df['fitzpatrick_scale'].value_counts().sort_index())\n",
    "print(\"\\nNumber of unique conditions:\", df['label'].nunique())\n",
    "print(\"\\nTop 10 conditions:\")\n",
    "print(df['label'].value_counts().head(10))"
   ]
  },
  {
   "cell_type": "code",
   "execution_count": 27,
   "id": "2d22a4d5",
   "metadata": {},
   "outputs": [],
   "source": [
    "def analyze_distribution(df):\n",
    "    \"\"\"Analyze distribution of skin types and conditions\"\"\"\n",
    "    \n",
    "    print(\"\\nSkin Type Distribution:\")\n",
    "    skin_type_dist = df['fitzpatrick_scale'].value_counts().sort_index()\n",
    "    print(skin_type_dist)\n",
    "    \n",
    "    print(\"\\nCondition Distribution:\")\n",
    "    condition_dist = df['three_partition_label'].value_counts()\n",
    "    print(condition_dist)\n",
    "    \n",
    "    # Visualize distributions\n",
    "    plt.figure(figsize=(12, 5))\n",
    "    \n",
    "    plt.subplot(1, 2, 1)\n",
    "    skin_type_dist.plot(kind='bar')\n",
    "    plt.title('Distribution of Skin Types')\n",
    "    plt.xlabel('Fitzpatrick Scale')\n",
    "    plt.ylabel('Count')\n",
    "    \n",
    "    plt.subplot(1, 2, 2)\n",
    "    condition_dist.plot(kind='bar')\n",
    "    plt.title('Distribution of Conditions')\n",
    "    plt.xticks(rotation=45)\n",
    "    \n",
    "    plt.tight_layout()\n",
    "    plt.show()\n",
    "    \n",
    "    return skin_type_dist, condition_dist"
   ]
  },
  {
   "cell_type": "markdown",
   "id": "6b3a6370",
   "metadata": {},
   "source": [
    "# Process the data and organize data into right folders"
   ]
  },
  {
   "cell_type": "code",
   "execution_count": 28,
   "id": "3a273844",
   "metadata": {},
   "outputs": [
    {
     "name": "stdout",
     "output_type": "stream",
     "text": [
      "Step 1: Downloading images...\n",
      "Downloading images...\n"
     ]
    },
    {
     "name": "stderr",
     "output_type": "stream",
     "text": [
      "  1%|          | 147/16577 [00:28<39:24,  6.95it/s]  "
     ]
    },
    {
     "name": "stdout",
     "output_type": "stream",
     "text": [
      "Error downloading nan: Invalid URL 'nan': No scheme supplied. Perhaps you meant https://nan?\n"
     ]
    },
    {
     "name": "stderr",
     "output_type": "stream",
     "text": [
      "  2%|▏         | 351/16577 [01:07<39:19,  6.88it/s]  "
     ]
    },
    {
     "name": "stdout",
     "output_type": "stream",
     "text": [
      "Error downloading nan: Invalid URL 'nan': No scheme supplied. Perhaps you meant https://nan?\n"
     ]
    },
    {
     "name": "stderr",
     "output_type": "stream",
     "text": [
      "  3%|▎         | 537/16577 [01:43<39:43,  6.73it/s]  "
     ]
    },
    {
     "name": "stdout",
     "output_type": "stream",
     "text": [
      "Error downloading nan: Invalid URL 'nan': No scheme supplied. Perhaps you meant https://nan?\n"
     ]
    },
    {
     "name": "stderr",
     "output_type": "stream",
     "text": [
      "  5%|▌         | 870/16577 [02:48<35:41,  7.33it/s]  "
     ]
    },
    {
     "name": "stdout",
     "output_type": "stream",
     "text": [
      "Error downloading nan: Invalid URL 'nan': No scheme supplied. Perhaps you meant https://nan?\n"
     ]
    },
    {
     "name": "stderr",
     "output_type": "stream",
     "text": [
      "  5%|▌         | 881/16577 [02:50<36:57,  7.08it/s]"
     ]
    },
    {
     "name": "stdout",
     "output_type": "stream",
     "text": [
      "Error downloading nan: Invalid URL 'nan': No scheme supplied. Perhaps you meant https://nan?\n"
     ]
    },
    {
     "name": "stderr",
     "output_type": "stream",
     "text": [
      "  6%|▌         | 920/16577 [02:57<37:17,  7.00it/s]  "
     ]
    },
    {
     "name": "stdout",
     "output_type": "stream",
     "text": [
      "Error downloading nan: Invalid URL 'nan': No scheme supplied. Perhaps you meant https://nan?\n"
     ]
    },
    {
     "name": "stderr",
     "output_type": "stream",
     "text": [
      "  8%|▊         | 1324/16577 [04:24<36:36,  6.95it/s]  "
     ]
    },
    {
     "name": "stdout",
     "output_type": "stream",
     "text": [
      "Error downloading nan: Invalid URL 'nan': No scheme supplied. Perhaps you meant https://nan?\n"
     ]
    },
    {
     "name": "stderr",
     "output_type": "stream",
     "text": [
      " 12%|█▏        | 1960/16577 [06:30<34:12,  7.12it/s]  "
     ]
    },
    {
     "name": "stdout",
     "output_type": "stream",
     "text": [
      "Error downloading nan: Invalid URL 'nan': No scheme supplied. Perhaps you meant https://nan?\n"
     ]
    },
    {
     "name": "stderr",
     "output_type": "stream",
     "text": [
      " 12%|█▏        | 1972/16577 [06:32<47:40,  5.11it/s]"
     ]
    },
    {
     "name": "stdout",
     "output_type": "stream",
     "text": [
      "Error downloading nan: Invalid URL 'nan': No scheme supplied. Perhaps you meant https://nan?\n"
     ]
    },
    {
     "name": "stderr",
     "output_type": "stream",
     "text": [
      " 13%|█▎        | 2080/16577 [06:52<35:12,  6.86it/s]"
     ]
    },
    {
     "name": "stdout",
     "output_type": "stream",
     "text": [
      "Error downloading nan: Invalid URL 'nan': No scheme supplied. Perhaps you meant https://nan?\n"
     ]
    },
    {
     "name": "stderr",
     "output_type": "stream",
     "text": [
      " 15%|█▌        | 2521/16577 [08:19<32:09,  7.28it/s]  "
     ]
    },
    {
     "name": "stdout",
     "output_type": "stream",
     "text": [
      "Error downloading nan: Invalid URL 'nan': No scheme supplied. Perhaps you meant https://nan?\n"
     ]
    },
    {
     "name": "stderr",
     "output_type": "stream",
     "text": [
      " 22%|██▏       | 3603/16577 [11:47<31:36,  6.84it/s]  "
     ]
    },
    {
     "name": "stdout",
     "output_type": "stream",
     "text": [
      "Error downloading nan: Invalid URL 'nan': No scheme supplied. Perhaps you meant https://nan?\n"
     ]
    },
    {
     "name": "stderr",
     "output_type": "stream",
     "text": [
      " 22%|██▏       | 3674/16577 [12:01<34:18,  6.27it/s]"
     ]
    },
    {
     "name": "stdout",
     "output_type": "stream",
     "text": [
      "Error downloading nan: Invalid URL 'nan': No scheme supplied. Perhaps you meant https://nan?\n"
     ]
    },
    {
     "name": "stderr",
     "output_type": "stream",
     "text": [
      " 26%|██▌       | 4267/16577 [13:59<41:30,  4.94it/s]"
     ]
    },
    {
     "name": "stdout",
     "output_type": "stream",
     "text": [
      "Error downloading nan: Invalid URL 'nan': No scheme supplied. Perhaps you meant https://nan?\n"
     ]
    },
    {
     "name": "stderr",
     "output_type": "stream",
     "text": [
      " 27%|██▋       | 4428/16577 [14:30<28:56,  7.00it/s]"
     ]
    },
    {
     "name": "stdout",
     "output_type": "stream",
     "text": [
      "Error downloading nan: Invalid URL 'nan': No scheme supplied. Perhaps you meant https://nan?\n"
     ]
    },
    {
     "name": "stderr",
     "output_type": "stream",
     "text": [
      " 29%|██▉       | 4795/16577 [15:40<36:11,  5.43it/s]  "
     ]
    },
    {
     "name": "stdout",
     "output_type": "stream",
     "text": [
      "Error downloading nan: Invalid URL 'nan': No scheme supplied. Perhaps you meant https://nan?\n"
     ]
    },
    {
     "name": "stderr",
     "output_type": "stream",
     "text": [
      " 33%|███▎      | 5412/16577 [17:38<27:37,  6.74it/s]"
     ]
    },
    {
     "name": "stdout",
     "output_type": "stream",
     "text": [
      "Error downloading nan: Invalid URL 'nan': No scheme supplied. Perhaps you meant https://nan?\n"
     ]
    },
    {
     "name": "stderr",
     "output_type": "stream",
     "text": [
      " 33%|███▎      | 5434/16577 [17:42<27:07,  6.85it/s]"
     ]
    },
    {
     "name": "stdout",
     "output_type": "stream",
     "text": [
      "Error downloading nan: Invalid URL 'nan': No scheme supplied. Perhaps you meant https://nan?\n"
     ]
    },
    {
     "name": "stderr",
     "output_type": "stream",
     "text": [
      " 35%|███▍      | 5789/16577 [18:51<26:43,  6.73it/s]  "
     ]
    },
    {
     "name": "stdout",
     "output_type": "stream",
     "text": [
      "Error downloading nan: Invalid URL 'nan': No scheme supplied. Perhaps you meant https://nan?\n"
     ]
    },
    {
     "name": "stderr",
     "output_type": "stream",
     "text": [
      " 37%|███▋      | 6203/16577 [20:11<27:09,  6.37it/s]"
     ]
    },
    {
     "name": "stdout",
     "output_type": "stream",
     "text": [
      "Error downloading nan: Invalid URL 'nan': No scheme supplied. Perhaps you meant https://nan?\n"
     ]
    },
    {
     "name": "stderr",
     "output_type": "stream",
     "text": [
      " 41%|████      | 6716/16577 [22:02<8:38:18,  3.15s/it]"
     ]
    },
    {
     "name": "stdout",
     "output_type": "stream",
     "text": [
      "Error downloading https://www.dermaamin.com/site/images/clinical-pic/r/rhus_dermatitis/rhus_dermatitis30.jpg: HTTPSConnectionPool(host='www.dermaamin.com', port=443): Read timed out. (read timeout=10)\n"
     ]
    },
    {
     "name": "stderr",
     "output_type": "stream",
     "text": [
      " 41%|████      | 6717/16577 [22:12<14:18:36,  5.22s/it]"
     ]
    },
    {
     "name": "stdout",
     "output_type": "stream",
     "text": [
      "Error downloading https://www.dermaamin.com/site/images/clinical-pic/p/paronychia/paronychia13.jpg: HTTPSConnectionPool(host='www.dermaamin.com', port=443): Read timed out. (read timeout=10)\n"
     ]
    },
    {
     "name": "stderr",
     "output_type": "stream",
     "text": [
      " 44%|████▍     | 7265/16577 [24:09<34:38,  4.48it/s]   "
     ]
    },
    {
     "name": "stdout",
     "output_type": "stream",
     "text": [
      "Error downloading nan: Invalid URL 'nan': No scheme supplied. Perhaps you meant https://nan?\n"
     ]
    },
    {
     "name": "stderr",
     "output_type": "stream",
     "text": [
      " 44%|████▍     | 7330/16577 [24:21<22:55,  6.72it/s]"
     ]
    },
    {
     "name": "stdout",
     "output_type": "stream",
     "text": [
      "Error downloading nan: Invalid URL 'nan': No scheme supplied. Perhaps you meant https://nan?\n"
     ]
    },
    {
     "name": "stderr",
     "output_type": "stream",
     "text": [
      " 45%|████▍     | 7446/16577 [24:43<21:40,  7.02it/s]"
     ]
    },
    {
     "name": "stdout",
     "output_type": "stream",
     "text": [
      "Error downloading nan: Invalid URL 'nan': No scheme supplied. Perhaps you meant https://nan?\n"
     ]
    },
    {
     "name": "stderr",
     "output_type": "stream",
     "text": [
      " 46%|████▌     | 7620/16577 [25:17<22:10,  6.73it/s]"
     ]
    },
    {
     "name": "stdout",
     "output_type": "stream",
     "text": [
      "Error downloading nan: Invalid URL 'nan': No scheme supplied. Perhaps you meant https://nan?\n"
     ]
    },
    {
     "name": "stderr",
     "output_type": "stream",
     "text": [
      " 47%|████▋     | 7792/16577 [25:51<21:27,  6.82it/s]"
     ]
    },
    {
     "name": "stdout",
     "output_type": "stream",
     "text": [
      "Error downloading nan: Invalid URL 'nan': No scheme supplied. Perhaps you meant https://nan?\n"
     ]
    },
    {
     "name": "stderr",
     "output_type": "stream",
     "text": [
      " 54%|█████▎    | 8889/16577 [29:17<17:47,  7.20it/s]"
     ]
    },
    {
     "name": "stdout",
     "output_type": "stream",
     "text": [
      "Error downloading nan: Invalid URL 'nan': No scheme supplied. Perhaps you meant https://nan?\n"
     ]
    },
    {
     "name": "stderr",
     "output_type": "stream",
     "text": [
      " 55%|█████▌    | 9128/16577 [30:01<17:52,  6.95it/s]"
     ]
    },
    {
     "name": "stdout",
     "output_type": "stream",
     "text": [
      "Error downloading nan: Invalid URL 'nan': No scheme supplied. Perhaps you meant https://nan?\n"
     ]
    },
    {
     "name": "stderr",
     "output_type": "stream",
     "text": [
      " 58%|█████▊    | 9574/16577 [31:26<17:24,  6.70it/s]"
     ]
    },
    {
     "name": "stdout",
     "output_type": "stream",
     "text": [
      "Error downloading nan: Invalid URL 'nan': No scheme supplied. Perhaps you meant https://nan?\n"
     ]
    },
    {
     "name": "stderr",
     "output_type": "stream",
     "text": [
      " 58%|█████▊    | 9686/16577 [31:47<16:39,  6.90it/s]"
     ]
    },
    {
     "name": "stdout",
     "output_type": "stream",
     "text": [
      "Error downloading nan: Invalid URL 'nan': No scheme supplied. Perhaps you meant https://nan?\n"
     ]
    },
    {
     "name": "stderr",
     "output_type": "stream",
     "text": [
      " 60%|█████▉    | 9933/16577 [32:36<15:49,  7.00it/s]"
     ]
    },
    {
     "name": "stdout",
     "output_type": "stream",
     "text": [
      "Error downloading nan: Invalid URL 'nan': No scheme supplied. Perhaps you meant https://nan?\n"
     ]
    },
    {
     "name": "stderr",
     "output_type": "stream",
     "text": [
      " 60%|██████    | 9967/16577 [32:42<15:43,  7.01it/s]"
     ]
    },
    {
     "name": "stdout",
     "output_type": "stream",
     "text": [
      "Error downloading nan: Invalid URL 'nan': No scheme supplied. Perhaps you meant https://nan?\n"
     ]
    },
    {
     "name": "stderr",
     "output_type": "stream",
     "text": [
      " 64%|██████▍   | 10587/16577 [34:41<13:53,  7.18it/s]"
     ]
    },
    {
     "name": "stdout",
     "output_type": "stream",
     "text": [
      "Error downloading nan: Invalid URL 'nan': No scheme supplied. Perhaps you meant https://nan?\n"
     ]
    },
    {
     "name": "stderr",
     "output_type": "stream",
     "text": [
      " 66%|██████▌   | 10914/16577 [35:43<14:19,  6.59it/s]"
     ]
    },
    {
     "name": "stdout",
     "output_type": "stream",
     "text": [
      "Error downloading nan: Invalid URL 'nan': No scheme supplied. Perhaps you meant https://nan?\n"
     ]
    },
    {
     "name": "stderr",
     "output_type": "stream",
     "text": [
      " 66%|██████▋   | 10985/16577 [35:57<13:41,  6.80it/s]"
     ]
    },
    {
     "name": "stdout",
     "output_type": "stream",
     "text": [
      "Error downloading nan: Invalid URL 'nan': No scheme supplied. Perhaps you meant https://nan?\n"
     ]
    },
    {
     "name": "stderr",
     "output_type": "stream",
     "text": [
      " 67%|██████▋   | 11125/16577 [36:23<12:59,  6.99it/s]"
     ]
    },
    {
     "name": "stdout",
     "output_type": "stream",
     "text": [
      "Error downloading nan: Invalid URL 'nan': No scheme supplied. Perhaps you meant https://nan?\n"
     ]
    },
    {
     "name": "stderr",
     "output_type": "stream",
     "text": [
      " 71%|███████   | 11787/16577 [41:14<14:52,  5.37it/s]   "
     ]
    },
    {
     "name": "stdout",
     "output_type": "stream",
     "text": [
      "Error downloading nan: Invalid URL 'nan': No scheme supplied. Perhaps you meant https://nan?\n"
     ]
    },
    {
     "name": "stderr",
     "output_type": "stream",
     "text": [
      " 72%|███████▏  | 11913/16577 [41:43<11:46,  6.60it/s]"
     ]
    },
    {
     "name": "stdout",
     "output_type": "stream",
     "text": [
      "Error downloading nan: Invalid URL 'nan': No scheme supplied. Perhaps you meant https://nan?\n"
     ]
    },
    {
     "name": "stderr",
     "output_type": "stream",
     "text": [
      " 73%|███████▎  | 12156/16577 [42:29<14:54,  4.94it/s]"
     ]
    },
    {
     "name": "stdout",
     "output_type": "stream",
     "text": [
      "Error downloading nan: Invalid URL 'nan': No scheme supplied. Perhaps you meant https://nan?\n"
     ]
    },
    {
     "name": "stderr",
     "output_type": "stream",
     "text": [
      " 74%|███████▎  | 12194/16577 [42:36<11:01,  6.62it/s]"
     ]
    },
    {
     "name": "stdout",
     "output_type": "stream",
     "text": [
      "Error downloading nan: Invalid URL 'nan': No scheme supplied. Perhaps you meant https://nan?\n"
     ]
    },
    {
     "name": "stderr",
     "output_type": "stream",
     "text": [
      " 75%|███████▍  | 12425/16577 [43:22<14:57,  4.63it/s]"
     ]
    },
    {
     "name": "stdout",
     "output_type": "stream",
     "text": [
      "Error downloading nan: Invalid URL 'nan': No scheme supplied. Perhaps you meant https://nan?\n"
     ]
    },
    {
     "name": "stderr",
     "output_type": "stream",
     "text": [
      " 76%|███████▌  | 12537/16577 [43:44<10:07,  6.65it/s]"
     ]
    },
    {
     "name": "stdout",
     "output_type": "stream",
     "text": [
      "Error downloading nan: Invalid URL 'nan': No scheme supplied. Perhaps you meant https://nan?\n"
     ]
    },
    {
     "name": "stderr",
     "output_type": "stream",
     "text": [
      "100%|██████████| 16577/16577 [58:25<00:00,  4.73it/s]\n"
     ]
    },
    {
     "name": "stdout",
     "output_type": "stream",
     "text": [
      "Successfully downloaded 3887 images\n",
      "\n",
      "Step 2: Updating DataFrame with image paths...\n",
      "Total samples with images: 3887\n",
      "\n",
      "Step 3: Creating data splits and organizing images...\n",
      "Creating data splits...\n",
      "Created directory: ../data/processed/images/train\n",
      "Created directory: ../data/processed/images/val\n",
      "Created directory: ../data/processed/images/test\n",
      "Done Creating directories\n",
      "Unique classification values: ['non-neoplastic' 'benign' 'malignant']\n",
      "\n",
      "Stratification column value counts:\n",
      "strat_col\n",
      "4_non-neoplastic     803\n",
      "3_non-neoplastic     679\n",
      "5_non-neoplastic     521\n",
      "2_non-neoplastic     418\n",
      "3_malignant          196\n",
      "6_non-neoplastic     179\n",
      "2_malignant          166\n",
      "4_malignant          158\n",
      "4_benign             121\n",
      "3_benign             121\n",
      "-1_non-neoplastic    113\n",
      "1_non-neoplastic      91\n",
      "5_malignant           76\n",
      "2_benign              74\n",
      "1_malignant           61\n",
      "5_benign              39\n",
      "-1_malignant          28\n",
      "6_malignant           17\n",
      "-1_benign             12\n",
      "1_benign               9\n",
      "6_benign               5\n",
      "Name: count, dtype: int64\n",
      "\n",
      "Fitzpatrick scale value counts:\n",
      "fitzpatrick_scale\n",
      " 4    1082\n",
      " 3     996\n",
      " 2     658\n",
      " 5     636\n",
      " 6     201\n",
      " 1     161\n",
      "-1     153\n",
      "Name: count, dtype: int64\n",
      "\n",
      "Initial split completed:\n",
      "Training set: 2720 images\n",
      "Validation set: 583 images\n",
      "Test set: 584 images\n",
      "\n",
      "Organizing images in train folder...\n",
      "Total images to organize: 2720\n"
     ]
    },
    {
     "name": "stderr",
     "output_type": "stream",
     "text": [
      "100%|██████████| 2720/2720 [00:01<00:00, 1447.02it/s]\n"
     ]
    },
    {
     "name": "stdout",
     "output_type": "stream",
     "text": [
      "TESTING IF IMAGES ARE MOVED\n",
      "\n",
      "Organizing images in val folder...\n",
      "Total images to organize: 583\n"
     ]
    },
    {
     "name": "stderr",
     "output_type": "stream",
     "text": [
      "100%|██████████| 583/583 [00:00<00:00, 1313.54it/s]\n"
     ]
    },
    {
     "name": "stdout",
     "output_type": "stream",
     "text": [
      "TESTING IF IMAGES ARE MOVED\n",
      "\n",
      "Organizing images in test folder...\n",
      "Total images to organize: 584\n"
     ]
    },
    {
     "name": "stderr",
     "output_type": "stream",
     "text": [
      "100%|██████████| 584/584 [00:00<00:00, 1466.65it/s]\n"
     ]
    },
    {
     "name": "stdout",
     "output_type": "stream",
     "text": [
      "TESTING IF IMAGES ARE MOVED\n",
      "Saved train_split.csv with 2720 records\n",
      "Saved val_split.csv with 583 records\n",
      "Saved test_split.csv with 584 records\n",
      "\n",
      "Final directory structure created:\n",
      "  train/malignant: 6 conditions\n",
      "  train/benign: 16 conditions\n",
      "  train/non-neoplastic: 66 conditions\n",
      "  val/malignant: 6 conditions\n",
      "  val/benign: 13 conditions\n",
      "  val/non-neoplastic: 60 conditions\n",
      "  test/malignant: 6 conditions\n",
      "  test/benign: 14 conditions\n",
      "  test/non-neoplastic: 57 conditions\n"
     ]
    },
    {
     "data": {
      "text/plain": [
       "(                                md5hash  fitzpatrick_scale  \\\n",
       " 14878  5b1fd32b7316582bae01110f2282237c                  3   \n",
       " 14283  89d26d163983669c7e2e5babbeb97bfe                  3   \n",
       " 13692  156ed125eab624182be3e6304cd5d1ed                  2   \n",
       " 13363  5a55b6a5368fee12881efc2bfb3ddb29                  3   \n",
       " 16551  7cd53e07049181c7ba86eb59636e9e42                  3   \n",
       " ...                                 ...                ...   \n",
       " 16295  9095b0fe47a5bca471c27e3b12967d00                  5   \n",
       " 14508  6096acdcd60616120d5b7f6637892634                  5   \n",
       " 15952  37d5efb3f304b6bd0472dde58bd78b5a                  4   \n",
       " 16082  4c731419c06a0d56f81cb03929783d38                 -1   \n",
       " 16373  d2e55a1959fdb0563226fbada4e405b3                  5   \n",
       " \n",
       "        fitzpatrick_centaur                        label nine_partition_label  \\\n",
       " 14878                    4        necrobiosis lipoidica         inflammatory   \n",
       " 14283                    4                fordyce spots        benign dermal   \n",
       " 13692                    2  allergic contact dermatitis         inflammatory   \n",
       " 13363                    3            prurigo nodularis     benign epidermal   \n",
       " 16551                    2                    urticaria         inflammatory   \n",
       " ...                    ...                          ...                  ...   \n",
       " 16295                    3                      scabies         inflammatory   \n",
       " 14508                    4        seborrheic dermatitis         inflammatory   \n",
       " 15952                    3                fordyce spots        benign dermal   \n",
       " 16082                    1         basal cell carcinoma  malignant epidermal   \n",
       " 16373                    5          erythema multiforme         inflammatory   \n",
       " \n",
       "       three_partition_label   qc  \\\n",
       " 14878        non-neoplastic  NaN   \n",
       " 14283                benign  NaN   \n",
       " 13692        non-neoplastic  NaN   \n",
       " 13363                benign  NaN   \n",
       " 16551        non-neoplastic  NaN   \n",
       " ...                     ...  ...   \n",
       " 16295        non-neoplastic  NaN   \n",
       " 14508        non-neoplastic  NaN   \n",
       " 15952                benign  NaN   \n",
       " 16082             malignant  NaN   \n",
       " 16373        non-neoplastic  NaN   \n",
       " \n",
       "                                                      url  \\\n",
       " 14878  http://atlasdermatologico.com.br/img?imageId=4741   \n",
       " 14283  http://atlasdermatologico.com.br/img?imageId=5134   \n",
       " 13692  http://atlasdermatologico.com.br/img?imageId=1156   \n",
       " 13363  http://atlasdermatologico.com.br/img?imageId=6125   \n",
       " 16551  http://atlasdermatologico.com.br/img?imageId=7772   \n",
       " ...                                                  ...   \n",
       " 16295  http://atlasdermatologico.com.br/img?imageId=6612   \n",
       " 14508  http://atlasdermatologico.com.br/img?imageId=6693   \n",
       " 15952  http://atlasdermatologico.com.br/img?imageId=2161   \n",
       " 16082   http://atlasdermatologico.com.br/img?imageId=544   \n",
       " 16373  http://atlasdermatologico.com.br/img?imageId=1953   \n",
       " \n",
       "                                            url_alphanum  \\\n",
       " 14878  httpwwwatlasdermatologicocombrimgimageId4741.jpg   \n",
       " 14283  httpwwwatlasdermatologicocombrimgimageId5134.jpg   \n",
       " 13692  httpwwwatlasdermatologicocombrimgimageId1156.jpg   \n",
       " 13363  httpwwwatlasdermatologicocombrimgimageId6125.jpg   \n",
       " 16551  httpwwwatlasdermatologicocombrimgimageId7772.jpg   \n",
       " ...                                                 ...   \n",
       " 16295  httpwwwatlasdermatologicocombrimgimageId6612.jpg   \n",
       " 14508  httpwwwatlasdermatologicocombrimgimageId6693.jpg   \n",
       " 15952  httpwwwatlasdermatologicocombrimgimageId2161.jpg   \n",
       " 16082   httpwwwatlasdermatologicocombrimgimageId544.jpg   \n",
       " 16373  httpwwwatlasdermatologicocombrimgimageId1953.jpg   \n",
       " \n",
       "                                               image_path         strat_col  \n",
       " 14878  ../data/processed/images/train/non-neoplastic/...  3_non-neoplastic  \n",
       " 14283  ../data/processed/images/train/benign/fordyce_...          3_benign  \n",
       " 13692  ../data/processed/images/train/non-neoplastic/...  2_non-neoplastic  \n",
       " 13363  ../data/processed/images/train/benign/prurigo_...          3_benign  \n",
       " 16551  ../data/processed/images/train/non-neoplastic/...  3_non-neoplastic  \n",
       " ...                                                  ...               ...  \n",
       " 16295  ../data/processed/images/train/non-neoplastic/...  5_non-neoplastic  \n",
       " 14508  ../data/processed/images/train/non-neoplastic/...  5_non-neoplastic  \n",
       " 15952  ../data/processed/images/train/benign/fordyce_...          4_benign  \n",
       " 16082  ../data/processed/images/train/malignant/basal...      -1_malignant  \n",
       " 16373  ../data/processed/images/train/non-neoplastic/...  5_non-neoplastic  \n",
       " \n",
       " [2720 rows x 11 columns],\n",
       "                                 md5hash  fitzpatrick_scale  \\\n",
       " 15497  a8f9762b6db1471fb8afc442b9511ffb                  4   \n",
       " 13807  f11dd85811e55aa1253cf418068973af                  5   \n",
       " 14704  a5d48aa6f3a65c2417ac126e1494ea54                  3   \n",
       " 13036  c58600ad1c1d5be7442c7647e5ffd2b9                  5   \n",
       " 14810  8940d70a7b6c77bd850ce5da2ddd5a54                  5   \n",
       " ...                                 ...                ...   \n",
       " 15831  440e2f8d1bccd9ecfc711b4bad8af5e4                  4   \n",
       " 14592  f5f280a94bc4b253a6dc3568f388c6a3                  4   \n",
       " 14093  fb3bf1757f6bd6d57eeec70ca910e8e7                  5   \n",
       " 15473  42ca868d015f5b088e3bfbd28db1621f                  1   \n",
       " 14803  e7d8041456e4bd33b3278835e6f8aa82                  2   \n",
       " \n",
       "        fitzpatrick_centaur                         label  \\\n",
       " 15497                    4             mycosis fungoides   \n",
       " 13807                    5           lupus erythematosus   \n",
       " 14704                    4  acrodermatitis enteropathica   \n",
       " 13036                    5             neurofibromatosis   \n",
       " 14810                    4               dariers disease   \n",
       " ...                    ...                           ...   \n",
       " 15831                    3         porokeratosis actinic   \n",
       " 14592                    4                     syringoma   \n",
       " 14093                    4            naevus comedonicus   \n",
       " 15473                    1       squamous cell carcinoma   \n",
       " 14803                   -1                   mucous cyst   \n",
       " \n",
       "                nine_partition_label three_partition_label   qc  \\\n",
       " 15497  malignant cutaneous lymphoma             malignant  NaN   \n",
       " 13807                  inflammatory        non-neoplastic  NaN   \n",
       " 14704                genodermatoses        non-neoplastic  NaN   \n",
       " 13036                genodermatoses        non-neoplastic  NaN   \n",
       " 14810                genodermatoses        non-neoplastic  NaN   \n",
       " ...                             ...                   ...  ...   \n",
       " 15831              benign epidermal                benign  NaN   \n",
       " 14592                 benign dermal                benign  NaN   \n",
       " 14093              benign epidermal                benign  NaN   \n",
       " 15473           malignant epidermal             malignant  NaN   \n",
       " 14803                 benign dermal                benign  NaN   \n",
       " \n",
       "                                                      url  \\\n",
       " 15497  http://atlasdermatologico.com.br/img?imageId=8699   \n",
       " 13807  http://atlasdermatologico.com.br/img?imageId=4127   \n",
       " 14704    http://atlasdermatologico.com.br/img?imageId=97   \n",
       " 13036  http://atlasdermatologico.com.br/img?imageId=4782   \n",
       " 14810  http://atlasdermatologico.com.br/img?imageId=1287   \n",
       " ...                                                  ...   \n",
       " 15831  http://atlasdermatologico.com.br/img?imageId=5946   \n",
       " 14592  http://atlasdermatologico.com.br/img?imageId=7128   \n",
       " 14093  http://atlasdermatologico.com.br/img?imageId=8902   \n",
       " 15473  http://atlasdermatologico.com.br/img?imageId=2998   \n",
       " 14803  http://atlasdermatologico.com.br/img?imageId=4555   \n",
       " \n",
       "                                            url_alphanum  \\\n",
       " 15497  httpwwwatlasdermatologicocombrimgimageId8699.jpg   \n",
       " 13807  httpwwwatlasdermatologicocombrimgimageId4127.jpg   \n",
       " 14704    httpwwwatlasdermatologicocombrimgimageId97.jpg   \n",
       " 13036  httpwwwatlasdermatologicocombrimgimageId4782.jpg   \n",
       " 14810  httpwwwatlasdermatologicocombrimgimageId1287.jpg   \n",
       " ...                                                 ...   \n",
       " 15831  httpwwwatlasdermatologicocombrimgimageId5946.jpg   \n",
       " 14592  httpwwwatlasdermatologicocombrimgimageId7128.jpg   \n",
       " 14093  httpwwwatlasdermatologicocombrimgimageId8902.jpg   \n",
       " 15473  httpwwwatlasdermatologicocombrimgimageId2998.jpg   \n",
       " 14803  httpwwwatlasdermatologicocombrimgimageId4555.jpg   \n",
       " \n",
       "                                               image_path         strat_col  \n",
       " 15497  ../data/processed/images/val/malignant/mycosis...       4_malignant  \n",
       " 13807  ../data/processed/images/val/non-neoplastic/lu...  5_non-neoplastic  \n",
       " 14704  ../data/processed/images/val/non-neoplastic/ac...  3_non-neoplastic  \n",
       " 13036  ../data/processed/images/val/non-neoplastic/ne...  5_non-neoplastic  \n",
       " 14810  ../data/processed/images/val/non-neoplastic/da...  5_non-neoplastic  \n",
       " ...                                                  ...               ...  \n",
       " 15831  ../data/processed/images/val/benign/porokerato...          4_benign  \n",
       " 14592  ../data/processed/images/val/benign/syringoma/...          4_benign  \n",
       " 14093  ../data/processed/images/val/benign/naevus_com...          5_benign  \n",
       " 15473  ../data/processed/images/val/malignant/squamou...       1_malignant  \n",
       " 14803  ../data/processed/images/val/benign/mucous_cys...          2_benign  \n",
       " \n",
       " [583 rows x 11 columns],\n",
       "                                 md5hash  fitzpatrick_scale  \\\n",
       " 13453  d08fe653b82372be660a7a0ace43b98e                  4   \n",
       " 13377  609451699be527bfe022509dd22c467c                  4   \n",
       " 15439  364d65481f6c52fc7b58f65cd56b8de3                  4   \n",
       " 13247  1e47962dfdfe1ccaaf34732868a16145                  3   \n",
       " 15627  141a5e9c784838cac1ffbbd7f4edf990                 -1   \n",
       " ...                                 ...                ...   \n",
       " 15280  bc17b2b80667945dbbc470f72b152900                  2   \n",
       " 13581  0e16117b2b9d1e457987386e363cc03c                  3   \n",
       " 15636  0294c0bfeba8a35db3ca2fcfafd655ef                  3   \n",
       " 15464  863fe24b3aa5a550a36aa75826d36bb3                  1   \n",
       " 15105  72c70306aace54ba95d9e65eae05f7eb                  5   \n",
       " \n",
       "        fitzpatrick_centaur                     label nine_partition_label  \\\n",
       " 13453                    3                 psoriasis         inflammatory   \n",
       " 13377                    4     necrobiosis lipoidica         inflammatory   \n",
       " 15439                    4  pityriasis rubra pilaris         inflammatory   \n",
       " 13247                    3     porokeratosis actinic     benign epidermal   \n",
       " 15627                   -1                 cheilitis         inflammatory   \n",
       " ...                    ...                       ...                  ...   \n",
       " 15280                    1   squamous cell carcinoma  malignant epidermal   \n",
       " 13581                    2     porokeratosis actinic     benign epidermal   \n",
       " 15636                    3                rhinophyma         inflammatory   \n",
       " 15464                    4     seborrheic dermatitis         inflammatory   \n",
       " 15105                    5              folliculitis         inflammatory   \n",
       " \n",
       "       three_partition_label   qc  \\\n",
       " 13453        non-neoplastic  NaN   \n",
       " 13377        non-neoplastic  NaN   \n",
       " 15439        non-neoplastic  NaN   \n",
       " 13247                benign  NaN   \n",
       " 15627        non-neoplastic  NaN   \n",
       " ...                     ...  ...   \n",
       " 15280             malignant  NaN   \n",
       " 13581                benign  NaN   \n",
       " 15636        non-neoplastic  NaN   \n",
       " 15464        non-neoplastic  NaN   \n",
       " 15105        non-neoplastic  NaN   \n",
       " \n",
       "                                                      url  \\\n",
       " 13453  http://atlasdermatologico.com.br/img?imageId=6239   \n",
       " 13377  http://atlasdermatologico.com.br/img?imageId=4760   \n",
       " 15439  http://atlasdermatologico.com.br/img?imageId=5681   \n",
       " 13247  http://atlasdermatologico.com.br/img?imageId=8607   \n",
       " 15627  http://atlasdermatologico.com.br/img?imageId=2224   \n",
       " ...                                                  ...   \n",
       " 15280  http://atlasdermatologico.com.br/img?imageId=6680   \n",
       " 13581  http://atlasdermatologico.com.br/img?imageId=8988   \n",
       " 15636  http://atlasdermatologico.com.br/img?imageId=6486   \n",
       " 15464  http://atlasdermatologico.com.br/img?imageId=8534   \n",
       " 15105  http://atlasdermatologico.com.br/img?imageId=6186   \n",
       " \n",
       "                                            url_alphanum  \\\n",
       " 13453  httpwwwatlasdermatologicocombrimgimageId6239.jpg   \n",
       " 13377  httpwwwatlasdermatologicocombrimgimageId4760.jpg   \n",
       " 15439  httpwwwatlasdermatologicocombrimgimageId5681.jpg   \n",
       " 13247  httpwwwatlasdermatologicocombrimgimageId8607.jpg   \n",
       " 15627  httpwwwatlasdermatologicocombrimgimageId2224.jpg   \n",
       " ...                                                 ...   \n",
       " 15280  httpwwwatlasdermatologicocombrimgimageId6680.jpg   \n",
       " 13581  httpwwwatlasdermatologicocombrimgimageId8988.jpg   \n",
       " 15636  httpwwwatlasdermatologicocombrimgimageId6486.jpg   \n",
       " 15464  httpwwwatlasdermatologicocombrimgimageId8534.jpg   \n",
       " 15105  httpwwwatlasdermatologicocombrimgimageId6186.jpg   \n",
       " \n",
       "                                               image_path          strat_col  \n",
       " 13453  ../data/processed/images/test/non-neoplastic/p...   4_non-neoplastic  \n",
       " 13377  ../data/processed/images/test/non-neoplastic/n...   4_non-neoplastic  \n",
       " 15439  ../data/processed/images/test/non-neoplastic/p...   4_non-neoplastic  \n",
       " 13247  ../data/processed/images/test/benign/porokerat...           3_benign  \n",
       " 15627  ../data/processed/images/test/non-neoplastic/c...  -1_non-neoplastic  \n",
       " ...                                                  ...                ...  \n",
       " 15280  ../data/processed/images/test/malignant/squamo...        2_malignant  \n",
       " 13581  ../data/processed/images/test/benign/porokerat...           3_benign  \n",
       " 15636  ../data/processed/images/test/non-neoplastic/r...   3_non-neoplastic  \n",
       " 15464  ../data/processed/images/test/non-neoplastic/s...   1_non-neoplastic  \n",
       " 15105  ../data/processed/images/test/non-neoplastic/f...   5_non-neoplastic  \n",
       " \n",
       " [584 rows x 11 columns])"
      ]
     },
     "execution_count": 28,
     "metadata": {},
     "output_type": "execute_result"
    }
   ],
   "source": [
    "import sys\n",
    "sys.path.append('../src/data')\n",
    "from preprocess import download_dataset_images, update_df_with_image_paths, create_data_splits\n",
    "\n",
    "def data_preprocess(df, base_dir='../data/processed/images'):\n",
    "    \"\"\"\n",
    "    Process the dataset by downloading images and organizing them into train/val/test splits\n",
    "    \n",
    "    Args:\n",
    "        df: DataFrame with the dataset information\n",
    "        base_dir: Base directory for storing images\n",
    "        \n",
    "    Returns:\n",
    "        train_df, val_df, test_df: Split DataFrames\n",
    "    \"\"\"\n",
    "    # Create base directory if it doesn't exist\n",
    "    os.makedirs(base_dir, exist_ok=True)\n",
    "    \n",
    "    # Step 1: Download images\n",
    "    print(\"Step 1: Downloading images...\")\n",
    "    successful_downloads = download_dataset_images(df, base_dir)\n",
    "    print(f\"Successfully downloaded {len(successful_downloads)} images\")\n",
    "    \n",
    "    # Step 2: Update DataFrame with image paths\n",
    "    print(\"\\nStep 2: Updating DataFrame with image paths...\")\n",
    "    df_with_images = update_df_with_image_paths(df, base_dir)\n",
    "    print(f\"Total samples with images: {len(df_with_images)}\")\n",
    "    \n",
    "    # Step 3: Create data splits and organize images\n",
    "    print(\"\\nStep 3: Creating data splits and organizing images...\")\n",
    "    train_df, val_df, test_df = create_data_splits(df_with_images, base_dir)\n",
    "    \n",
    "    # Print summary\n",
    "    # if train_df is not None:\n",
    "    #     print(\"\\nData preparation completed successfully!\")\n",
    "    #     print(f\"Training set: {len(train_df)} images\")\n",
    "    #     print(f\"Validation set: {len(val_df)} images\")\n",
    "    #     print(f\"Test set: {len(test_df)} images\")\n",
    "        \n",
    "    #     # Print distribution of skin types in each split\n",
    "    #     print(\"\\nFitzpatrick scale distribution:\")\n",
    "    #     print(\"Training set:\")\n",
    "    #     print(train_df['fitzpatrick_scale'].value_counts().sort_index())\n",
    "    #     print(\"\\nValidation set:\")\n",
    "    #     print(val_df['fitzpatrick_scale'].value_counts().sort_index())\n",
    "    #     print(\"\\nTest set:\")\n",
    "    #     print(test_df['fitzpatrick_scale'].value_counts().sort_index())\n",
    "        \n",
    "    #     # Print distribution of classifications in each split\n",
    "    #     if 'three_partition_label' in train_df.columns:\n",
    "    #         print(\"\\nClassification distribution:\")\n",
    "    #         print(\"Training set:\")\n",
    "    #         print(train_df['three_partition_label'].value_counts())\n",
    "    #         print(\"\\nValidation set:\")\n",
    "    #         print(val_df['three_partition_label'].value_counts())\n",
    "    #         print(\"\\nTest set:\")\n",
    "    #         print(test_df['three_partition_label'].value_counts())\n",
    "    \n",
    "    return train_df, val_df, test_df\n",
    "\n",
    "data_preprocess(df, base_dir='../data/processed/images')"
   ]
  },
  {
   "cell_type": "code",
   "execution_count": 29,
   "id": "33de7598",
   "metadata": {},
   "outputs": [
    {
     "name": "stdout",
     "output_type": "stream",
     "text": [
      "\n",
      "Manually cleaning up base directory...\n",
      "Found 3887 jpg files in base directory\n",
      "Removed 3887 original images from base directory\n"
     ]
    }
   ],
   "source": [
    "# Add this cell to your notebook to manually clean up the base directory\n",
    "def manual_cleanup(base_dir='../data/processed/images', train_df=None, val_df=None, test_df=None):\n",
    "    \"\"\"\n",
    "    Manually clean up the base directory by removing images that have been copied to split folders\n",
    "    \"\"\"\n",
    "    print(\"\\nManually cleaning up base directory...\")\n",
    "    \n",
    "    # Get all image files in the base directory\n",
    "    base_files = [f for f in os.listdir(base_dir) if f.endswith('.jpg') and os.path.isfile(os.path.join(base_dir, f))]\n",
    "    print(f\"Found {len(base_files)} jpg files in base directory\")\n",
    "    \n",
    "    # Count files removed\n",
    "    removed_count = 0\n",
    "    \n",
    "    # Remove each file\n",
    "    for filename in base_files:\n",
    "        file_path = os.path.join(base_dir, filename)\n",
    "        try:\n",
    "            os.remove(file_path)\n",
    "            removed_count += 1\n",
    "        except Exception as e:\n",
    "            print(f\"Error removing {filename}: {str(e)}\")\n",
    "    \n",
    "    print(f\"Removed {removed_count} original images from base directory\")\n",
    "\n",
    "# Call the manual cleanup function\n",
    "manual_cleanup()\n"
   ]
  }
 ],
 "metadata": {
  "kernelspec": {
   "display_name": "Python 3",
   "language": "python",
   "name": "python3"
  },
  "language_info": {
   "codemirror_mode": {
    "name": "ipython",
    "version": 3
   },
   "file_extension": ".py",
   "mimetype": "text/x-python",
   "name": "python",
   "nbconvert_exporter": "python",
   "pygments_lexer": "ipython3",
   "version": "3.10.16"
  }
 },
 "nbformat": 4,
 "nbformat_minor": 5
}
