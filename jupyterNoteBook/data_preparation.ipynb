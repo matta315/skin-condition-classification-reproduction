{
 "cells": [
  {
   "cell_type": "code",
   "execution_count": 1,
   "id": "6d964bed",
   "metadata": {},
   "outputs": [],
   "source": [
    "#!/usr/bin/env python\n",
    "# coding: utf-8"
   ]
  },
  {
   "cell_type": "code",
   "execution_count": 8,
   "id": "0c99e241",
   "metadata": {},
   "outputs": [],
   "source": [
    "import pandas as pd\n",
    "import os\n",
    "import random\n",
    "import numpy as np\n",
    "import torch\n",
    "import torch.nn as nn\n",
    "import torch.nn.functional as F\n",
    "import time\n",
    "from tqdm import tqdm\n",
    "\n",
    "# record start time\n",
    "_START_RUNTIME = time.time()\n",
    "\n",
    "# set seed\n",
    "seed = 24\n",
    "random.seed(seed)\n",
    "np.random.seed(seed)\n",
    "torch.manual_seed(seed)\n",
    "os.environ[\"PYTHONHASHSEED\"] = str(seed)\n",
    "\n",
    "# Define data and weight path\n",
    "DATA_PATH = \"../data/raw/fitzpatrick17k.csv\""
   ]
  },
  {
   "cell_type": "markdown",
   "id": "04900058",
   "metadata": {},
   "source": [
    "## About Raw Data\n",
    "https://github.com/mattgroh/fitzpatrick17k/blob/main/fitzpatrick17k.csv"
   ]
  },
  {
   "cell_type": "code",
   "execution_count": null,
   "id": "a63956b6",
   "metadata": {},
   "outputs": [
    {
     "name": "stdout",
     "output_type": "stream",
     "text": [
      "Columns in the dataset: Index(['md5hash', 'fitzpatrick_scale', 'fitzpatrick_centaur', 'label',\n",
      "       'nine_partition_label', 'three_partition_label', 'qc', 'url',\n",
      "       'url_alphanum'],\n",
      "      dtype='object')\n",
      "Total samples: 16577\n",
      "\n",
      "Fitzpatrick scale distribution:\n",
      "fitzpatrick_scale\n",
      "-1     565\n",
      " 1    2947\n",
      " 2    4808\n",
      " 3    3308\n",
      " 4    2781\n",
      " 5    1533\n",
      " 6     635\n",
      "Name: count, dtype: int64\n",
      "\n",
      "Number of unique conditions: 114\n",
      "\n",
      "Top 10 conditions:\n",
      "label\n",
      "psoriasis                      653\n",
      "squamous cell carcinoma        581\n",
      "lichen planus                  491\n",
      "basal cell carcinoma           468\n",
      "allergic contact dermatitis    430\n",
      "lupus erythematosus            410\n",
      "neutrophilic dermatoses        361\n",
      "sarcoidosis                    349\n",
      "photodermatoses                348\n",
      "folliculitis                   342\n",
      "Name: count, dtype: int64\n",
      "['label']\n"
     ]
    },
    {
     "ename": "AttributeError",
     "evalue": "'NoneType' object has no attribute 'unique'",
     "output_type": "error",
     "traceback": [
      "\u001b[0;31m---------------------------------------------------------------------------\u001b[0m",
      "\u001b[0;31mAttributeError\u001b[0m                            Traceback (most recent call last)",
      "Cell \u001b[0;32mIn[9], line 12\u001b[0m\n\u001b[1;32m     10\u001b[0m \u001b[38;5;28mprint\u001b[39m(\u001b[38;5;124m\"\u001b[39m\u001b[38;5;130;01m\\n\u001b[39;00m\u001b[38;5;124mTop 10 conditions:\u001b[39m\u001b[38;5;124m\"\u001b[39m)\n\u001b[1;32m     11\u001b[0m \u001b[38;5;28mprint\u001b[39m(df[\u001b[38;5;124m'\u001b[39m\u001b[38;5;124mlabel\u001b[39m\u001b[38;5;124m'\u001b[39m]\u001b[38;5;241m.\u001b[39mvalue_counts()\u001b[38;5;241m.\u001b[39mhead(\u001b[38;5;241m10\u001b[39m))\n\u001b[0;32m---> 12\u001b[0m \u001b[38;5;28;43mprint\u001b[39;49m\u001b[43m(\u001b[49m\u001b[43m[\u001b[49m\u001b[38;5;124;43m'\u001b[39;49m\u001b[38;5;124;43mlabel\u001b[39;49m\u001b[38;5;124;43m'\u001b[39;49m\u001b[43m]\u001b[49m\u001b[43m)\u001b[49m\u001b[38;5;241;43m.\u001b[39;49m\u001b[43munique\u001b[49m()\n",
      "\u001b[0;31mAttributeError\u001b[0m: 'NoneType' object has no attribute 'unique'"
     ]
    }
   ],
   "source": [
    "# Analysis of the Fitzpatrick 17k dataset\n",
    "\n",
    "df = pd.read_csv(DATA_PATH)\n",
    "\n",
    "print(\"Columns in the dataset:\", df.columns)\n",
    "print(\"Total samples:\", len(df))\n",
    "print(\"\\nFitzpatrick scale distribution:\")\n",
    "print(df['fitzpatrick_scale'].value_counts().sort_index())\n",
    "print(\"\\nNumber of unique conditions:\", df['label'].nunique())\n",
    "print(\"\\nTop 10 conditions:\")\n",
    "print(df['label'].value_counts().head(10))\n",
    "print(['label']).unique()"
   ]
  },
  {
   "cell_type": "markdown",
   "id": "6b3a6370",
   "metadata": {},
   "source": [
    "# Process the data and organize data into right folders"
   ]
  }
 ],
 "metadata": {
  "kernelspec": {
   "display_name": "Python 3",
   "language": "python",
   "name": "python3"
  },
  "language_info": {
   "codemirror_mode": {
    "name": "ipython",
    "version": 3
   },
   "file_extension": ".py",
   "mimetype": "text/x-python",
   "name": "python",
   "nbconvert_exporter": "python",
   "pygments_lexer": "ipython3",
   "version": "3.10.16"
  }
 },
 "nbformat": 4,
 "nbformat_minor": 5
}
